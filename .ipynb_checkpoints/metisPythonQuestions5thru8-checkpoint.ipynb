{
 "cells": [
  {
   "cell_type": "code",
   "execution_count": 51,
   "metadata": {
    "collapsed": false
   },
   "outputs": [
    {
     "name": "stdout",
     "output_type": "stream",
     "text": [
      "937 days, 0:00:00\n"
     ]
    }
   ],
   "source": [
    "from datetime import datetime\n",
    "\n",
    "date_start = '01-02-2013'\n",
    "date_stop = '07-28-2015'\n",
    "dtDateStart = datetime.strptime(date_start, \"%m-%d-%Y\")\n",
    "dtDateEnd = datetime.strptime(date_stop, \"%m-%d-%Y\")\n",
    "\n",
    "timeElapsed = dtDateEnd - dtDateStart\n",
    "print(timeElapsed)"
   ]
  },
  {
   "cell_type": "code",
   "execution_count": 52,
   "metadata": {
    "collapsed": false
   },
   "outputs": [
    {
     "name": "stdout",
     "output_type": "stream",
     "text": [
      "513 days, 0:00:00\n"
     ]
    }
   ],
   "source": [
    "from datetime import datetime\n",
    "\n",
    "date_start = '12312013'  \n",
    "date_stop = '05282015' \n",
    "dtDateStart = datetime.strptime(date_start, \"%m%d%Y\")\n",
    "dtDateEnd = datetime.strptime(date_stop, \"%m%d%Y\")\n",
    "\n",
    "timeElapsed = dtDateEnd - dtDateStart\n",
    "print(timeElapsed)"
   ]
  },
  {
   "cell_type": "code",
   "execution_count": 54,
   "metadata": {
    "collapsed": false
   },
   "outputs": [
    {
     "name": "stdout",
     "output_type": "stream",
     "text": [
      "7850 days, 0:00:00\n"
     ]
    }
   ],
   "source": [
    "from datetime import datetime\n",
    "\n",
    "date_start = '15-Jan-1994'      \n",
    "date_stop = '14-Jul-2015' \n",
    "dtDateStart = datetime.strptime(date_start, \"%d-%b-%Y\")\n",
    "dtDateEnd = datetime.strptime(date_stop, \"%d-%b-%Y\")\n",
    "\n",
    "timeElapsed = dtDateEnd - dtDateStart\n",
    "print(timeElapsed)"
   ]
  },
  {
   "cell_type": "code",
   "execution_count": 76,
   "metadata": {
    "collapsed": false
   },
   "outputs": [],
   "source": [
    "def donuts(x):\n",
    "    if type(x) != int:\n",
    "        print(\"Please enter an integer!\")\n",
    "    elif x < 10:\n",
    "        return \"Number of donuts: \" + str(x)\n",
    "    elif x >9:\n",
    "        return \"Number of donuts: Many\""
   ]
  },
  {
   "cell_type": "code",
   "execution_count": 126,
   "metadata": {
    "collapsed": false
   },
   "outputs": [],
   "source": [
    "def both_ends(s):\n",
    "    if type(s) != str:\n",
    "        print(\"Please enter a string!\")\n",
    "    elif len(s) <2:\n",
    "        return \" \"\n",
    "    elif len(s) >2:\n",
    "        return s[0:2] + s[-2:]"
   ]
  },
  {
   "cell_type": "code",
   "execution_count": 135,
   "metadata": {
    "collapsed": false
   },
   "outputs": [],
   "source": [
    "def fix_start(s):\n",
    "    count = 1\n",
    "    editedString = s[0]\n",
    "    while count < len(s):\n",
    "        if s[count] == s[0]:\n",
    "            editedString = editedString + '*'\n",
    "        else:\n",
    "            editedString = editedString + str(s[count])\n",
    "        count = count+1\n",
    "    return editedString"
   ]
  },
  {
   "cell_type": "code",
   "execution_count": 140,
   "metadata": {
    "collapsed": false
   },
   "outputs": [],
   "source": [
    "def mix_up(a, b):\n",
    "    newA = b[0:2] + a[2:]\n",
    "    newB = a[0:2] + b[2:]\n",
    "    return(newA + ' ' + newB)\n",
    "    "
   ]
  },
  {
   "cell_type": "code",
   "execution_count": 157,
   "metadata": {
    "collapsed": false
   },
   "outputs": [],
   "source": [
    "def verbing(s):\n",
    "    if len(s) >2:\n",
    "        if s[-3:] == 'ing':\n",
    "            s = s+'ly'\n",
    "        else:\n",
    "            s = s+'ing'\n",
    "        return s\n",
    "    else:\n",
    "        return s\n"
   ]
  },
  {
   "cell_type": "code",
   "execution_count": 65,
   "metadata": {
    "collapsed": false
   },
   "outputs": [],
   "source": [
    "def not_bad(s):\n",
    "    notPos = badPos = count = 0\n",
    "    tempStr1=tempStr2 = ''\n",
    "    while count+2 < len(s):\n",
    "        currentThree = s[count:count+3]\n",
    "        if currentThree == 'not':\n",
    "            tempStr1 = s[0:count]\n",
    "            notPos = count\n",
    "        elif currentThree == 'bad':\n",
    "            tempStr2 = s[count+3:-1]+s[-1]\n",
    "            badPos = count\n",
    "        count = count+1\n",
    "    if notPos < badPos:\n",
    "        if s[-1] == 'd':\n",
    "            tempStr2 = tempStr2[0:-1]\n",
    "            return tempStr1 + 'good' + tempStr2\n",
    "        else:\n",
    "            return tempStr1 + 'good' + tempStr2\n",
    "    else:\n",
    "        return s"
   ]
  },
  {
   "cell_type": "code",
   "execution_count": 83,
   "metadata": {
    "collapsed": false
   },
   "outputs": [],
   "source": [
    "def front_back(a, b):\n",
    "    lenA = len(a)\n",
    "    lenB = len(b)\n",
    "    if lenA%2 == 0:\n",
    "        aFront = a[0:lenA/2]\n",
    "        aBack = a[lenA/2:]\n",
    "    if lenA%2 != 0:\n",
    "        aFront = a[0:(lenA/2)+1]\n",
    "        aBack = a[(lenA/2)+1:]\n",
    "    if lenB%2 == 0:\n",
    "        bFront = b[0:lenB/2]\n",
    "        bBack = b[lenB/2:]\n",
    "    if lenB%2 != 0:\n",
    "        bFront = b[0:(lenB/2)+1]\n",
    "        bBack = b[(lenB/2)+1:]\n",
    "    \n",
    "    print aFront, aBack, bFront, bBack\n",
    "    return aFront + bFront + aBack + bBack\n"
   ]
  },
  {
   "cell_type": "code",
   "execution_count": 87,
   "metadata": {
    "collapsed": false
   },
   "outputs": [],
   "source": [
    "def match_ends(words):\n",
    "    count = 0\n",
    "    for item in words:\n",
    "        if len(item) > 1 and item[0] == item[-1]:\n",
    "            count = count+1\n",
    "    return count"
   ]
  },
  {
   "cell_type": "code",
   "execution_count": 110,
   "metadata": {
    "collapsed": false
   },
   "outputs": [],
   "source": [
    "def front_x(words):\n",
    "    xWordsList = []\n",
    "    regWordsList = []\n",
    "    for item in words:\n",
    "        if item[0] == 'x':\n",
    "            xWordsList.append(item)\n",
    "        else:\n",
    "            regWordsList.append(item)\n",
    "    finalList = sorted(xWordsList)\n",
    "    sortedReg = sorted(regWordsList)\n",
    "    for item in sortedReg:\n",
    "        finalList.append(item)\n",
    "    print finalList"
   ]
  },
  {
   "cell_type": "code",
   "execution_count": 123,
   "metadata": {
    "collapsed": false
   },
   "outputs": [],
   "source": [
    "def getKey(item):\n",
    "    return item[-1]\n",
    "\n",
    "def sort_last(tuples):\n",
    "    return sorted(tuples, key=getKey)"
   ]
  },
  {
   "cell_type": "code",
   "execution_count": 183,
   "metadata": {
    "collapsed": false
   },
   "outputs": [],
   "source": [
    "def remove_adjacent(nums):\n",
    "    newList = [nums[0]]\n",
    "    count = 1\n",
    "    while count < len(nums):\n",
    "        if newList[-1] != nums[count]:\n",
    "            newList.append(nums[count])\n",
    "        else:\n",
    "            pass\n",
    "        count = count+1\n",
    "    return newList"
   ]
  },
  {
   "cell_type": "code",
   "execution_count": 190,
   "metadata": {
    "collapsed": false
   },
   "outputs": [],
   "source": [
    "def linear_merge(list1, list2):\n",
    "    finalList = sorted(list1+list2)\n",
    "    return finalList"
   ]
  },
  {
   "cell_type": "code",
   "execution_count": 191,
   "metadata": {
    "collapsed": false
   },
   "outputs": [
    {
     "data": {
      "text/plain": [
       "['aa', 'bb', 'cc', 'xx', 'zz']"
      ]
     },
     "execution_count": 191,
     "metadata": {},
     "output_type": "execute_result"
    }
   ],
   "source": [
    "linear_merge(['aa', 'xx'], ['bb', 'cc', 'zz'])"
   ]
  },
  {
   "cell_type": "code",
   "execution_count": 193,
   "metadata": {
    "collapsed": false
   },
   "outputs": [
    {
     "data": {
      "text/plain": [
       "['aa', 'bb', 'cc', 'xx', 'zz']"
      ]
     },
     "execution_count": 193,
     "metadata": {},
     "output_type": "execute_result"
    }
   ],
   "source": [
    "linear_merge(['aa', 'xx', 'zz'], ['bb', 'cc'])"
   ]
  },
  {
   "cell_type": "code",
   "execution_count": 201,
   "metadata": {
    "collapsed": false
   },
   "outputs": [],
   "source": [
    "import csv \n",
    "import urllib2"
   ]
  },
  {
   "cell_type": "code",
   "execution_count": 236,
   "metadata": {
    "collapsed": false
   },
   "outputs": [
    {
     "name": "stdout",
     "output_type": "stream",
     "text": [
      "('Aston_Villa', 1)\n"
     ]
    }
   ],
   "source": [
    "url = 'https://raw.githubusercontent.com/cjstef/dsp/master/python/football.csv'\n",
    "response = urllib2.urlopen(url)\n",
    "cr = csv.reader(response)\n",
    "\n",
    "teamList = []\n",
    "goalDif = []\n",
    "for row in cr:\n",
    "    teamList.append((row[0],row[5],row[6]))\n",
    "teamList.remove(teamList[0])\n",
    "for item in teamList:\n",
    "    goalDif.append((item[0],abs((int(item[1])-int(item[2])))))\n",
    "    \n",
    "def getKey(item):\n",
    "    return item[-1]\n",
    "\n",
    "finalSort = sorted(goalDif,key=getKey)\n",
    "print finalSort[0]"
   ]
  },
  {
   "cell_type": "code",
   "execution_count": 231,
   "metadata": {
    "collapsed": false
   },
   "outputs": [
    {
     "name": "stdout",
     "output_type": "stream",
     "text": [
      "[('b', 14), ('a', 37)]\n"
     ]
    }
   ],
   "source": [
    "def getKey(item):\n",
    "    return item[-1]\n",
    "\n",
    "list = [('a', 37),('b', 14)]\n",
    "print sorted(list,key=getKey)\n"
   ]
  },
  {
   "cell_type": "code",
   "execution_count": 228,
   "metadata": {
    "collapsed": false
   },
   "outputs": [
    {
     "name": "stdout",
     "output_type": "stream",
     "text": [
      "None\n"
     ]
    }
   ],
   "source": []
  },
  {
   "cell_type": "code",
   "execution_count": null,
   "metadata": {
    "collapsed": true
   },
   "outputs": [],
   "source": []
  }
 ],
 "metadata": {
  "anaconda-cloud": {},
  "kernelspec": {
   "display_name": "Python [default]",
   "language": "python",
   "name": "python2"
  },
  "language_info": {
   "codemirror_mode": {
    "name": "ipython",
    "version": 2
   },
   "file_extension": ".py",
   "mimetype": "text/x-python",
   "name": "python",
   "nbconvert_exporter": "python",
   "pygments_lexer": "ipython2",
   "version": "2.7.12"
  }
 },
 "nbformat": 4,
 "nbformat_minor": 1
}
