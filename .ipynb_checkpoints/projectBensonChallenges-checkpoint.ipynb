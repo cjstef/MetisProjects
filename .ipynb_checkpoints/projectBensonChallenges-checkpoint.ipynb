{
 "cells": [
  {
   "cell_type": "code",
   "execution_count": 1,
   "metadata": {
    "collapsed": false
   },
   "outputs": [],
   "source": [
    "import pandas as pd\n",
    "import numpy as np\n",
    "import matplotlib.pyplot as plt\n",
    "\n",
    "from IPython.display import Image\n",
    "\n",
    "# enables inline plots, without it plots don't show up in the notebook\n",
    "%matplotlib inline"
   ]
  },
  {
   "cell_type": "code",
   "execution_count": 2,
   "metadata": {
    "collapsed": true
   },
   "outputs": [],
   "source": [
    "df = pd.read_csv('http://web.mta.info/developers/data/nyct/turnstile/turnstile_170107.txt')"
   ]
  },
  {
   "cell_type": "code",
   "execution_count": 3,
   "metadata": {
    "collapsed": false
   },
   "outputs": [
    {
     "data": {
      "text/html": [
       "<div>\n",
       "<table border=\"1\" class=\"dataframe\">\n",
       "  <thead>\n",
       "    <tr style=\"text-align: right;\">\n",
       "      <th></th>\n",
       "      <th>C/A</th>\n",
       "      <th>UNIT</th>\n",
       "      <th>SCP</th>\n",
       "      <th>STATION</th>\n",
       "      <th>LINENAME</th>\n",
       "      <th>DIVISION</th>\n",
       "      <th>DATE</th>\n",
       "      <th>TIME</th>\n",
       "      <th>DESC</th>\n",
       "      <th>ENTRIES</th>\n",
       "      <th>EXITS</th>\n",
       "    </tr>\n",
       "  </thead>\n",
       "  <tbody>\n",
       "    <tr>\n",
       "      <th>0</th>\n",
       "      <td>A002</td>\n",
       "      <td>R051</td>\n",
       "      <td>02-00-00</td>\n",
       "      <td>59 ST</td>\n",
       "      <td>NQR456W</td>\n",
       "      <td>BMT</td>\n",
       "      <td>12/31/2016</td>\n",
       "      <td>03:00:00</td>\n",
       "      <td>REGULAR</td>\n",
       "      <td>5991546</td>\n",
       "      <td>2028378</td>\n",
       "    </tr>\n",
       "    <tr>\n",
       "      <th>1</th>\n",
       "      <td>A002</td>\n",
       "      <td>R051</td>\n",
       "      <td>02-00-00</td>\n",
       "      <td>59 ST</td>\n",
       "      <td>NQR456W</td>\n",
       "      <td>BMT</td>\n",
       "      <td>12/31/2016</td>\n",
       "      <td>07:00:00</td>\n",
       "      <td>REGULAR</td>\n",
       "      <td>5991565</td>\n",
       "      <td>2028389</td>\n",
       "    </tr>\n",
       "    <tr>\n",
       "      <th>2</th>\n",
       "      <td>A002</td>\n",
       "      <td>R051</td>\n",
       "      <td>02-00-00</td>\n",
       "      <td>59 ST</td>\n",
       "      <td>NQR456W</td>\n",
       "      <td>BMT</td>\n",
       "      <td>12/31/2016</td>\n",
       "      <td>11:00:00</td>\n",
       "      <td>REGULAR</td>\n",
       "      <td>5991644</td>\n",
       "      <td>2028441</td>\n",
       "    </tr>\n",
       "    <tr>\n",
       "      <th>3</th>\n",
       "      <td>A002</td>\n",
       "      <td>R051</td>\n",
       "      <td>02-00-00</td>\n",
       "      <td>59 ST</td>\n",
       "      <td>NQR456W</td>\n",
       "      <td>BMT</td>\n",
       "      <td>12/31/2016</td>\n",
       "      <td>15:00:00</td>\n",
       "      <td>REGULAR</td>\n",
       "      <td>5991971</td>\n",
       "      <td>2028502</td>\n",
       "    </tr>\n",
       "    <tr>\n",
       "      <th>4</th>\n",
       "      <td>A002</td>\n",
       "      <td>R051</td>\n",
       "      <td>02-00-00</td>\n",
       "      <td>59 ST</td>\n",
       "      <td>NQR456W</td>\n",
       "      <td>BMT</td>\n",
       "      <td>12/31/2016</td>\n",
       "      <td>19:00:00</td>\n",
       "      <td>REGULAR</td>\n",
       "      <td>5992418</td>\n",
       "      <td>2028543</td>\n",
       "    </tr>\n",
       "  </tbody>\n",
       "</table>\n",
       "</div>"
      ],
      "text/plain": [
       "    C/A  UNIT       SCP STATION LINENAME DIVISION        DATE      TIME  \\\n",
       "0  A002  R051  02-00-00   59 ST  NQR456W      BMT  12/31/2016  03:00:00   \n",
       "1  A002  R051  02-00-00   59 ST  NQR456W      BMT  12/31/2016  07:00:00   \n",
       "2  A002  R051  02-00-00   59 ST  NQR456W      BMT  12/31/2016  11:00:00   \n",
       "3  A002  R051  02-00-00   59 ST  NQR456W      BMT  12/31/2016  15:00:00   \n",
       "4  A002  R051  02-00-00   59 ST  NQR456W      BMT  12/31/2016  19:00:00   \n",
       "\n",
       "      DESC  ENTRIES  \\\n",
       "0  REGULAR  5991546   \n",
       "1  REGULAR  5991565   \n",
       "2  REGULAR  5991644   \n",
       "3  REGULAR  5991971   \n",
       "4  REGULAR  5992418   \n",
       "\n",
       "   EXITS                                                                 \n",
       "0                                            2028378                     \n",
       "1                                            2028389                     \n",
       "2                                            2028441                     \n",
       "3                                            2028502                     \n",
       "4                                            2028543                     "
      ]
     },
     "execution_count": 3,
     "metadata": {},
     "output_type": "execute_result"
    }
   ],
   "source": [
    "df.head()"
   ]
  },
  {
   "cell_type": "code",
   "execution_count": 4,
   "metadata": {
    "collapsed": false
   },
   "outputs": [],
   "source": [
    "#question 1, generating dictionary\n",
    "d = {}\n",
    "i = 0\n",
    "valList = []\n",
    "currentKey = tuple(df.iloc[0][:4])\n",
    "a = tuple(df.iloc[i][:4])\n",
    "b = list(df.iloc[i][4:])\n",
    "\n",
    "while i < len(df):\n",
    "    d[a] = valList\n",
    "    a = tuple(df.iloc[i][:4])\n",
    "    b = list(df.iloc[i][4:])\n",
    "    if a == currentKey:\n",
    "        valList.append(b)\n",
    "    else:\n",
    "        currentKey = a\n",
    "        valList = []\n",
    "    i = i+1\n",
    "d[a]=valList\n",
    "    "
   ]
  },
  {
   "cell_type": "code",
   "execution_count": 5,
   "metadata": {
    "collapsed": false
   },
   "outputs": [],
   "source": [
    "##question 2\n",
    "import dateutil\n",
    "import datetime\n",
    "dts = {}\n",
    "i = 0\n",
    "tempList = []\n",
    "valList = []\n",
    "aString = ''\n",
    "\n",
    "while i < len(d.keys()):\n",
    "    for item in d[d.keys()[i]]:\n",
    "        aString = dateutil.parser.parse(item[2] + ' ' + item[3])\n",
    "        tempList.append(aString)\n",
    "        tempList.append(item[5])\n",
    "        valList.append(tempList)\n",
    "        tempList = []\n",
    "    dts[d.keys()[i]] = valList\n",
    "    i = i+1\n",
    "    valList = []\n",
    "    aString = ''"
   ]
  },
  {
   "cell_type": "code",
   "execution_count": 139,
   "metadata": {
    "collapsed": false
   },
   "outputs": [],
   "source": [
    "#question 3, the counts are for every 4 hours\n",
    "#same keys, single value for single day, total # of passengers that entered through stile that day\n",
    "finalTally = 0\n",
    "startTally = 0\n",
    "entriesTotal = 0\n",
    "dts2 = {}\n",
    "tempList = []\n",
    "valList = []\n",
    "count = 0\n",
    "\n",
    "for key in dts:\n",
    "    for item in dts[key]:\n",
    "        hour = item[0].hour\n",
    "        if startTally == 0:\n",
    "            startTally = item[1]\n",
    "        if hour > 19:\n",
    "            finalTally = item[1]\n",
    "            entriesTotal = finalTally-startTally\n",
    "            tempList.append([(item[0].month, item[0].day, item[0].year),entriesTotal])\n",
    "            startTally = finalTally\n",
    "    dts2[key] = tempList\n",
    "    tempList = []\n",
    "    finalTally = 0\n",
    "    startTally = 0\n",
    "\n",
    "    "
   ]
  },
  {
   "cell_type": "code",
   "execution_count": 68,
   "metadata": {
    "collapsed": false
   },
   "outputs": [],
   "source": [
    "#question4\n",
    "%matplotlib inline\n",
    "import matplotlib.pyplot as plt\n",
    "\n",
    "dates = []\n",
    "counts = []\n",
    "\n",
    "for item in dts2[dts2.keys()[0]]:\n",
    "    dates.append(item[0])\n",
    "    counts.append(item[1])\n",
    "    "
   ]
  },
  {
   "cell_type": "code",
   "execution_count": 140,
   "metadata": {
    "collapsed": false
   },
   "outputs": [
    {
     "data": {
      "text/plain": [
       "[[(12, 31, 2016), 306],\n",
       " [(1, 1, 2017), 254],\n",
       " [(1, 2, 2017), 312],\n",
       " [(1, 3, 2017), 575],\n",
       " [(1, 4, 2017), 675],\n",
       " [(1, 5, 2017), 706],\n",
       " [(1, 6, 2017), 653]]"
      ]
     },
     "execution_count": 140,
     "metadata": {},
     "output_type": "execute_result"
    }
   ],
   "source": [
    "dts2[dts2.keys()[1]]"
   ]
  },
  {
   "cell_type": "code",
   "execution_count": 56,
   "metadata": {
    "collapsed": false
   },
   "outputs": [
    {
     "data": {
      "text/plain": [
       "[<matplotlib.lines.Line2D at 0x11536ae10>,\n",
       " <matplotlib.lines.Line2D at 0x11537b050>,\n",
       " <matplotlib.lines.Line2D at 0x11537b190>]"
      ]
     },
     "execution_count": 56,
     "metadata": {},
     "output_type": "execute_result"
    },
    {
     "data": {
      "image/png": "[encoded data removed]",
      "text/plain": [
       "<matplotlib.figure.Figure at 0x11b47e590>"
      ]
     },
     "metadata": {},
     "output_type": "display_data"
    }
   ],
   "source": [
    "plt.figure(figsize=(10,3))\n",
    "plt.plot(dates,counts)"
   ]
  },
  {
   "cell_type": "code",
   "execution_count": 142,
   "metadata": {
    "collapsed": false
   },
   "outputs": [],
   "source": [
    "#question 5\n",
    "combined = {}\n",
    "total = 0\n",
    "for key in dts2:\n",
    "    newKey = (key[0],key[1],key[3])\n",
    "    for item in dts2[key]:\n",
    "        total = total+item[1]\n",
    "    if newKey in combined:\n",
    "        total = total + combined[newKey]\n",
    "    combined[newKey] = total\n",
    "    total = 0\n"
   ]
  },
  {
   "cell_type": "code",
   "execution_count": 155,
   "metadata": {
    "collapsed": false
   },
   "outputs": [],
   "source": [
    "#question 6\n",
    "stations = {}\n",
    "total = 0\n",
    "for key in combined:\n",
    "    newKey = (key[2])\n",
    "    total = total + combined[key]\n",
    "    if newKey in stations:\n",
    "        total = total + stations[newKey]\n",
    "    stations[newKey] = total\n",
    "    total = 0"
   ]
  },
  {
   "cell_type": "code",
   "execution_count": 156,
   "metadata": {
    "collapsed": false
   },
   "outputs": [
    {
     "data": {
      "text/plain": [
       "372"
      ]
     },
     "execution_count": 156,
     "metadata": {},
     "output_type": "execute_result"
    }
   ],
   "source": [
    "len(stations)"
   ]
  },
  {
   "cell_type": "code",
   "execution_count": 115,
   "metadata": {
    "collapsed": false
   },
   "outputs": [
    {
     "data": {
      "text/plain": [
       "{('N134', 'R385', 'ROCKAWAY BLVD'): 14338}"
      ]
     },
     "execution_count": 115,
     "metadata": {},
     "output_type": "execute_result"
    }
   ],
   "source": [
    "combined"
   ]
  },
  {
   "cell_type": "code",
   "execution_count": null,
   "metadata": {
    "collapsed": true
   },
   "outputs": [],
   "source": []
  }
 ],
 "metadata": {
  "anaconda-cloud": {},
  "kernelspec": {
   "display_name": "Python [conda root]",
   "language": "python",
   "name": "conda-root-py"
  },
  "language_info": {
   "codemirror_mode": {
    "name": "ipython",
    "version": 2
   },
   "file_extension": ".py",
   "mimetype": "text/x-python",
   "name": "python",
   "nbconvert_exporter": "python",
   "pygments_lexer": "ipython2",
   "version": "2.7.12"
  }
 },
 "nbformat": 4,
 "nbformat_minor": 1
}
