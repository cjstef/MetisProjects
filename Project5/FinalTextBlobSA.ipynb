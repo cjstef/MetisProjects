{
 "cells": [
  {
   "cell_type": "code",
   "execution_count": 1,
   "metadata": {
    "collapsed": false
   },
   "outputs": [],
   "source": [
    "import tweepy\n",
    "from nltk.tokenize import word_tokenize\n",
    "import re\n",
    "import sys\n",
    "import jsonpickle\n",
    "import os\n",
    "import json\n",
    "from os import path\n",
    "import pandas as pd\n",
    "import numpy as np\n",
    "from textblob import TextBlob\n",
    "from nltk.corpus import stopwords\n",
    "import string\n",
    "\n",
    "##Pull in tweets on topic of choice\n",
    "\n",
    "def tweetPull(topic, follower_count_filter, total):\n",
    "    \n",
    "    # Replace the API_KEY and API_SECRET with your application's key and secret.\n",
    "    API_KEY = 'xxSAJCzdHduRpvNkqxWyFngwL'\n",
    "    API_SECRET = 'oFaVN1sDSqPqwfcDZ7mdYNZ81KrpokYWvNPsZsesn4CZfB7vcP'\n",
    "\n",
    "    #AppAuthHandler sets up app only auth for higher limits\n",
    "    auth = tweepy.AppAuthHandler(API_KEY, API_SECRET)\n",
    "\n",
    "    #wait_on_rate_limit automatically waits when limit is hit, and continues after\n",
    "    api = tweepy.API(auth, wait_on_rate_limit=True, \n",
    "                     wait_on_rate_limit_notify=True)\n",
    "\n",
    "    if (not api):\n",
    "        print (\"Can't Authenticate\")\n",
    "        sys.exit(-1)\n",
    "\n",
    "    file_path = path.relpath(\"tweetScrapeTest.txt\")\n",
    "    \n",
    "    searchQuery = topic  # this is what we're searching for\n",
    "    maxTweets = total # Some arbitrary large number\n",
    "    tweetsPerQry = 100  # this is the max the API permits\n",
    "    \n",
    "    # If results from a specific ID onwards are reqd, set since_id to that ID.\n",
    "    # else default to no lower limit, go as far back as API allows\n",
    "    sinceId = None\n",
    "\n",
    "    # If results only below a specific ID are, set max_id to that ID.\n",
    "    # else default to no upper limit, start from the most recent tweet matching the search query.\n",
    "    max_id = -1L\n",
    "\n",
    "    tweets = []\n",
    "    tweetCount = 0\n",
    "    print(\"Downloading max {0} tweets\".format(maxTweets))\n",
    "    with open(file_path, 'w') as f:\n",
    "        while tweetCount < maxTweets:\n",
    "            try:\n",
    "                if (max_id <= 0):\n",
    "                    if (not sinceId):\n",
    "                        new_tweets = api.search(q=searchQuery, count=tweetsPerQry)\n",
    "                    else:\n",
    "                        new_tweets = api.search(q=searchQuery, count=tweetsPerQry,\n",
    "                                                since_id=sinceId)\n",
    "                else:\n",
    "                    if (not sinceId):\n",
    "                        new_tweets = api.search(q=searchQuery, count=tweetsPerQry,\n",
    "                                                max_id=str(max_id - 1))\n",
    "                    else:\n",
    "                        new_tweets = api.search(q=searchQuery, count=tweetsPerQry,\n",
    "                                                max_id=str(max_id - 1),\n",
    "                                                since_id=sinceId)\n",
    "                if not new_tweets:\n",
    "                    print(\"No more tweets found\")\n",
    "                    break\n",
    "                for tweet in new_tweets:\n",
    "                    if tweet._json['user']['followers_count'] > follower_count_filter and tweet._json['lang'] == 'en' and tweet._json['text'][0:2] != 'RT' and tweet._json['in_reply_to_status_id'] == None:\n",
    "                        tweets.append(tweet._json)\n",
    "                    #f.write(jsonpickle.encode(tweet._json, unpicklable=False) +\n",
    "                            #'\\n')\n",
    "                tweetCount += len(new_tweets)\n",
    "                print(\"Downloaded {0} tweets\".format(tweetCount))\n",
    "                max_id = new_tweets[-1].id\n",
    "            except tweepy.TweepError as e:\n",
    "                # Just exit if any error\n",
    "                print(\"some error : \" + str(e))\n",
    "                break\n",
    "                \n",
    "    return tweets\n",
    "    print (\"Downloaded {0} tweets, Saved to {1}\".format(tweetCount, file_path))\n",
    "\n"
   ]
  },
  {
   "cell_type": "code",
   "execution_count": 2,
   "metadata": {
    "collapsed": false
   },
   "outputs": [],
   "source": [
    "def tweets_to_df(list_of_tweets):\n",
    "    emoticons_str = r\"\"\"\n",
    "        (?:\n",
    "            [:=;] # Eyes\n",
    "            [oO\\-]? # Nose (optional)\n",
    "            [D\\)\\]\\(\\]/\\\\OpP] # Mouth\n",
    "        )\"\"\"\n",
    "\n",
    "    regex_str = [\n",
    "        emoticons_str,\n",
    "        r'<[^>]+>', # HTML tags\n",
    "        r'(?:@[\\w_]+)', # @-mentions\n",
    "        r\"(?:\\#+[\\w_]+[\\w\\'_\\-]*[\\w_]+)\", # hash-tags\n",
    "        r'http[s]?://(?:[a-z]|[0-9]|[$-_@.&amp;+]|[!*\\(\\),]|(?:%[0-9a-f][0-9a-f]))+', # URLs\n",
    "\n",
    "        r'(?:(?:\\d+,?)+(?:\\.?\\d+)?)', # numbers\n",
    "        r\"(?:[a-z][a-z'\\-_]+[a-z])\", # words with - and '\n",
    "        r'(?:[\\w_]+)', # other words\n",
    "        r'(?:\\S)' # anything else\n",
    "    ]\n",
    "\n",
    "    tokens_re = re.compile(r'('+'|'.join(regex_str)+')', re.VERBOSE | re.IGNORECASE)\n",
    "    emoticon_re = re.compile(r'^'+emoticons_str+'$', re.VERBOSE | re.IGNORECASE)\n",
    "\n",
    "    def tokenize(s):\n",
    "        return tokens_re.findall(s)\n",
    "\n",
    "    def preprocess(s, lowercase=False):\n",
    "        tokens = tokenize(s)\n",
    "        if lowercase:\n",
    "            tokens = [token if emoticon_re.search(token) else token.lower() for token in tokens]\n",
    "        return tokens\n",
    "    \n",
    "    unicodeChars = [u\"\\u2026\",u'\\u2013',u'\\u2019', u'\\ud83d', u'\\ude02', u'\\u2605',u'\\ud83c', u'\\xa0']\n",
    "    punctuation = list(string.punctuation)\n",
    "    stop = stopwords.words('english') + punctuation + ['rt', 'via', 'bitcoin', 'btc'] + unicodeChars\n",
    "        \n",
    "    data = []\n",
    "    temp = []\n",
    "    hashes = []\n",
    "\n",
    "    for item in list_of_tweets:\n",
    "        cleaned_text_no_stops = []\n",
    "        cleaned_text = preprocess(item['text'].lower())\n",
    "        for word in cleaned_text:\n",
    "            if word not in stop and not word.startswith(('#', '@')):\n",
    "                cleaned_text_no_stops.append(word)\n",
    "        pol = TextBlob(item['text']).sentiment.polarity\n",
    "        \n",
    "        temp.append(item['created_at'])\n",
    "        temp.append(item['text'])\n",
    "        if len(item['entities']['hashtags']) > 0:\n",
    "            for i in item['entities']['hashtags']:\n",
    "                hashes.append(i['text'])\n",
    "        else:\n",
    "            hashes = ''\n",
    "        temp.append(hashes)\n",
    "        temp.append((item['user']['name'], item['user']['screen_name']))\n",
    "        temp.append(item['user']['followers_count'])\n",
    "        temp.append(item['favorite_count'])\n",
    "        temp.append(item['retweet_count'])\n",
    "        temp.append(pol)\n",
    "        temp.append(cleaned_text_no_stops)\n",
    "        data.append(temp)\n",
    "        temp = []\n",
    "        hashes = []\n",
    "    \n",
    "    df = pd.DataFrame(data, columns=['timestamp','text','hashtags','user','user_followers','favorites','retweets','polarity','tokenized_text'])\n",
    "    df['timestamp'] = pd.to_datetime(df.timestamp)\n",
    "    return df\n",
    "    \n",
    "    "
   ]
  },
  {
   "cell_type": "code",
   "execution_count": 3,
   "metadata": {
    "collapsed": false
   },
   "outputs": [],
   "source": [
    "def polFilter(polaritySeries):\n",
    "    pols = []\n",
    "    for row in polaritySeries:\n",
    "        if abs(row) > .2:\n",
    "            pols.append(row)\n",
    "            \n",
    "    return sum(pols)/len(pols)"
   ]
  },
  {
   "cell_type": "code",
   "execution_count": 7,
   "metadata": {
    "collapsed": false
   },
   "outputs": [],
   "source": [
    "def dashboard(df):\n",
    "    from nltk import bigrams\n",
    "    from collections import Counter\n",
    "    import matplotlib.pyplot as plt\n",
    "    import numpy as np\n",
    "    %matplotlib inline\n",
    "    \n",
    "    def polFilter(series):\n",
    "        pols = []\n",
    "        for row in series:\n",
    "            if abs(row) > .2:\n",
    "                pols.append(row)\n",
    "        return sum(pols)/len(pols)\n",
    "    \n",
    "    pol = polFilter(df.polarity)\n",
    "    \n",
    "    all_words = []\n",
    "    \n",
    "    for i in range(len(df)):\n",
    "        all_words = all_words + df.tokenized_text.iloc[i]\n",
    "\n",
    "    count_all = Counter()\n",
    "    count_all.update(all_words)\n",
    "    plotdata = count_all.most_common(5)\n",
    "    \n",
    "    print 'highest rated tweet: ' + df.text.iloc[df.favorites.idxmax()]\n",
    "    print 'user : ' + str(df.user.iloc[df.favorites.idxmax()][1])\n",
    "    print 'tweet sentiment: ' + str(df.polarity.iloc[df.favorites.idxmax()])\n",
    "    print plotdata\n",
    "    print 'Aggregate Sentiment for Subject: ' + str(pol)\n",
    "    \n",
    "\n",
    "    # save the names and their respective scores separately\n",
    "    # reverse the tuples to go from most frequent to least frequent \n",
    "    topics = zip(*plotdata)[0]\n",
    "    mentions = zip(*plotdata)[1]\n",
    "    x_pos = np.arange(len(topics)) \n",
    "    \n",
    "    polDi\n",
    "\n",
    "    # calculate slope and intercept for the linear trend line\n",
    "    slope, intercept = np.polyfit(x_pos, mentions, 1)\n",
    "   \n",
    "    plt.bar(x_pos, mentions, align='center')\n",
    "    plt.xticks(x_pos, topics) \n",
    "    plt.xlabel('Common Topics')\n",
    "    plt.ylabel('# of Mentions')\n",
    "    plt.show()"
   ]
  },
  {
   "cell_type": "code",
   "execution_count": 11,
   "metadata": {
    "collapsed": false,
    "scrolled": false
   },
   "outputs": [
    {
     "name": "stdout",
     "output_type": "stream",
     "text": [
      "Downloading max 1000 tweets\n",
      "Downloaded 100 tweets\n",
      "Downloaded 200 tweets\n",
      "Downloaded 300 tweets\n",
      "Downloaded 400 tweets\n",
      "Downloaded 500 tweets\n",
      "Downloaded 600 tweets\n",
      "Downloaded 700 tweets\n",
      "Downloaded 800 tweets\n",
      "Downloaded 900 tweets\n",
      "Downloaded 1000 tweets\n",
      "highest rated tweet: SICK #ISIS militants made female prisoners TORTURE EACH OTHER for not wearing a veil! \n",
      "https://t.co/VKVwnNyXfR https://t.co/KQedYeTeqf\n",
      "user : JoeCostello\n",
      "tweet sentiment: -0.290178571429\n",
      "[(u'isis', 129), (u'india', 43), (u'mg', 17), (u'indian', 16), (u'terror', 12)]\n",
      "Aggregate Sentiment for Subject: 0.211192128949\n"
     ]
    },
    {
     "data": {
      "image/png": "[encoded data removed]",
      "text/plain": [
       "<matplotlib.figure.Figure at 0x11c99bed0>"
      ]
     },
     "metadata": {},
     "output_type": "display_data"
    }
   ],
   "source": [
    "dashboard(tweets_to_df(tweetPull('isis', 100, 1000)))"
   ]
  },
  {
   "cell_type": "code",
   "execution_count": null,
   "metadata": {
    "collapsed": false
   },
   "outputs": [
    {
     "name": "stdout",
     "output_type": "stream",
     "text": [
      "Downloading max 5000 tweets\n",
      "Downloaded 99 tweets\n",
      "Downloaded 199 tweets\n",
      "Downloaded 299 tweets\n",
      "Downloaded 399 tweets\n",
      "Downloaded 499 tweets\n",
      "Downloaded 599 tweets\n",
      "Downloaded 699 tweets\n",
      "Downloaded 788 tweets\n",
      "Downloaded 883 tweets\n",
      "Downloaded 983 tweets\n",
      "Downloaded 1083 tweets\n",
      "Downloaded 1181 tweets\n",
      "Downloaded 1281 tweets\n",
      "Downloaded 1381 tweets\n",
      "Downloaded 1481 tweets\n",
      "Downloaded 1581 tweets\n",
      "Downloaded 1681 tweets\n",
      "Downloaded 1781 tweets\n",
      "Downloaded 1881 tweets\n",
      "Downloaded 1981 tweets\n",
      "Downloaded 2081 tweets\n",
      "Downloaded 2181 tweets\n",
      "Downloaded 2281 tweets\n",
      "Downloaded 2381 tweets\n",
      "Downloaded 2481 tweets\n",
      "Downloaded 2581 tweets\n",
      "Downloaded 2681 tweets\n",
      "Downloaded 2781 tweets\n",
      "Downloaded 2881 tweets\n",
      "Downloaded 2981 tweets\n",
      "Downloaded 3081 tweets\n",
      "Downloaded 3181 tweets\n",
      "Downloaded 3281 tweets\n",
      "Downloaded 3381 tweets\n",
      "Downloaded 3481 tweets\n",
      "Downloaded 3581 tweets\n",
      "Downloaded 3681 tweets\n",
      "Downloaded 3781 tweets\n",
      "Downloaded 3881 tweets\n",
      "Downloaded 3981 tweets\n",
      "Downloaded 4081 tweets\n",
      "Downloaded 4181 tweets\n",
      "Downloaded 4281 tweets\n",
      "Downloaded 4381 tweets\n",
      "Downloaded 4481 tweets\n",
      "Downloaded 4581 tweets\n",
      "Downloaded 4681 tweets\n"
     ]
    }
   ],
   "source": [
    "df = tweets_to_df(tweetPull('trump',100,5000))"
   ]
  },
  {
   "cell_type": "code",
   "execution_count": 13,
   "metadata": {
    "collapsed": false
   },
   "outputs": [
    {
     "data": {
      "text/plain": [
       "<matplotlib.axes._subplots.AxesSubplot at 0x11c57ad50>"
      ]
     },
     "execution_count": 13,
     "metadata": {},
     "output_type": "execute_result"
    },
    {
     "data": {
      "image/png": "[encoded data removed]",
      "text/plain": [
       "<matplotlib.figure.Figure at 0x11ca25090>"
      ]
     },
     "metadata": {},
     "output_type": "display_data"
    }
   ],
   "source": [
    "df.polarity.plot(kind='hist')"
   ]
  },
  {
   "cell_type": "code",
   "execution_count": 30,
   "metadata": {
    "collapsed": false
   },
   "outputs": [],
   "source": [
    "def polDist(series):\n",
    "    controversial = []\n",
    "    for score in series:\n",
    "        if score < 0:\n",
    "            adjVal = -1*(abs(score)**.25)\n",
    "        else:\n",
    "            adjVal = score**.5\n",
    "        controversial.append(adjVal)\n",
    "    controversial = [x for x in controversial if x != 0]\n",
    "    negative = [x for x in controversial if x < 0]\n",
    "    positive = [x for x in controversial if x > 0]\n",
    "    print 'negative tweets: ' + str(len(negative)), 'positive tweets: ' + str(len(positive))\n",
    "    return pd.Series(controversial).plot(kind='hist')"
   ]
  },
  {
   "cell_type": "code",
   "execution_count": 18,
   "metadata": {
    "collapsed": false
   },
   "outputs": [
    {
     "ename": "NameError",
     "evalue": "name 'controversial' is not defined",
     "output_type": "error",
     "traceback": [
      "\u001b[0;31m---------------------------------------------------------------------------\u001b[0m",
      "\u001b[0;31mNameError\u001b[0m                                 Traceback (most recent call last)",
      "\u001b[0;32m<ipython-input-18-a690d85b68b0>\u001b[0m in \u001b[0;36m<module>\u001b[0;34m()\u001b[0m\n\u001b[0;32m----> 1\u001b[0;31m \u001b[0mcontroversial\u001b[0m\u001b[0;34m\u001b[0m\u001b[0m\n\u001b[0m",
      "\u001b[0;31mNameError\u001b[0m: name 'controversial' is not defined"
     ]
    }
   ],
   "source": []
  },
  {
   "cell_type": "code",
   "execution_count": 31,
   "metadata": {
    "collapsed": false
   },
   "outputs": [
    {
     "name": "stdout",
     "output_type": "stream",
     "text": [
      "negative tweets: 35 positive tweets: 48\n"
     ]
    },
    {
     "data": {
      "text/plain": [
       "<matplotlib.axes._subplots.AxesSubplot at 0x11c55cbd0>"
      ]
     },
     "execution_count": 31,
     "metadata": {},
     "output_type": "execute_result"
    },
    {
     "data": {
      "image/png": "[encoded data removed]",
      "text/plain": [
       "<matplotlib.figure.Figure at 0x11c3a2190>"
      ]
     },
     "metadata": {},
     "output_type": "display_data"
    }
   ],
   "source": [
    "polDist(df.polarity)"
   ]
  },
  {
   "cell_type": "code",
   "execution_count": null,
   "metadata": {
    "collapsed": true
   },
   "outputs": [],
   "source": []
  }
 ],
 "metadata": {
  "anaconda-cloud": {},
  "kernelspec": {
   "display_name": "Python [conda root]",
   "language": "python",
   "name": "conda-root-py"
  },
  "language_info": {
   "codemirror_mode": {
    "name": "ipython",
    "version": 2
   },
   "file_extension": ".py",
   "mimetype": "text/x-python",
   "name": "python",
   "nbconvert_exporter": "python",
   "pygments_lexer": "ipython2",
   "version": "2.7.12"
  }
 },
 "nbformat": 4,
 "nbformat_minor": 2
}
