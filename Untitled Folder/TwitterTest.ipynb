{
 "cells": [
  {
   "cell_type": "code",
   "execution_count": 1,
   "metadata": {
    "collapsed": true
   },
   "outputs": [],
   "source": [
    "from __future__ import print_function\n",
    "import pandas as pd"
   ]
  },
  {
   "cell_type": "code",
   "execution_count": 3,
   "metadata": {
    "collapsed": false
   },
   "outputs": [
    {
     "name": "stdout",
     "output_type": "stream",
     "text": [
      "Collecting requests_oauthlib\n",
      "  Downloading requests_oauthlib-0.8.0-py2.py3-none-any.whl\n",
      "Requirement already satisfied (use --upgrade to upgrade): requests>=2.0.0 in /Users/connor/anaconda/lib/python2.7/site-packages (from requests_oauthlib)\n",
      "Collecting oauthlib>=0.6.2 (from requests_oauthlib)\n",
      "  Downloading oauthlib-2.0.1.tar.gz (122kB)\n",
      "Building wheels for collected packages: oauthlib\n",
      "  Running setup.py bdist_wheel for oauthlib: started\n",
      "  Running setup.py bdist_wheel for oauthlib: finished with status 'done'\n",
      "  Stored in directory: /Users/connor/Library/Caches/pip/wheels/e7/4e/b5/c36a97caf4408037eb35aeb1e0a80d95ea0c521a562c3488a3\n",
      "Successfully built oauthlib\n",
      "Installing collected packages: oauthlib, requests-oauthlib\n",
      "Successfully installed oauthlib-2.0.1 requests-oauthlib-0.8.0\n"
     ]
    },
    {
     "name": "stderr",
     "output_type": "stream",
     "text": [
      "You are using pip version 8.1.2, however version 9.0.1 is available.\n",
      "You should consider upgrading via the 'pip install --upgrade pip' command.\n"
     ]
    }
   ],
   "source": [
    "%%bash \n",
    "pip install requests_oauthlib\n",
    "\n"
   ]
  },
  {
   "cell_type": "code",
   "execution_count": 4,
   "metadata": {
    "collapsed": true
   },
   "outputs": [],
   "source": [
    "import requests\n",
    "from requests_oauthlib import OAuth1\n",
    "\n",
    "#OAuth ~ simple way to to publish & interact with data"
   ]
  },
  {
   "cell_type": "code",
   "execution_count": 6,
   "metadata": {
    "collapsed": false
   },
   "outputs": [
    {
     "name": "stdout",
     "output_type": "stream",
     "text": [
      "Collecting cnfg\n",
      "  Downloading cnfg-1.0.0.tar.gz\n",
      "Building wheels for collected packages: cnfg\n",
      "  Running setup.py bdist_wheel for cnfg: started\n",
      "  Running setup.py bdist_wheel for cnfg: finished with status 'done'\n",
      "  Stored in directory: /Users/connor/Library/Caches/pip/wheels/a5/5e/92/349eb0e479de50b6da1271a4185660a8bb85471f393336c21e\n",
      "Successfully built cnfg\n",
      "Installing collected packages: cnfg\n",
      "Successfully installed cnfg-1.0.0\n"
     ]
    },
    {
     "name": "stderr",
     "output_type": "stream",
     "text": [
      "You are using pip version 8.1.2, however version 9.0.1 is available.\n",
      "You should consider upgrading via the 'pip install --upgrade pip' command.\n"
     ]
    }
   ],
   "source": [
    "%%bash\n",
    "pip install cnfg"
   ]
  },
  {
   "cell_type": "code",
   "execution_count": 9,
   "metadata": {
    "collapsed": false
   },
   "outputs": [],
   "source": [
    "# Importing our Config\n",
    "\n",
    "import cnfg\n",
    "config = cnfg.load(\"/Users/connor/ds/metis/metisgh/_twitter_config.txt\")\n",
    "\n",
    "oauth = OAuth1(config[\"consumer_key\"],\n",
    "               config[\"consumer_secret\"],\n",
    "               config[\"access_token\"],\n",
    "               config[\"access_token_secret\"])"
   ]
  },
  {
   "cell_type": "code",
   "execution_count": 10,
   "metadata": {
    "collapsed": false
   },
   "outputs": [
    {
     "name": "stdout",
     "output_type": "stream",
     "text": [
      "contributors\n",
      "truncated\n",
      "text\n",
      "is_quote_status\n",
      "in_reply_to_status_id\n",
      "id\n",
      "favorite_count\n",
      "source\n",
      "retweeted\n",
      "coordinates\n",
      "entities\n",
      "in_reply_to_screen_name\n",
      "in_reply_to_user_id\n",
      "retweet_count\n",
      "id_str\n",
      "favorited\n",
      "user\n",
      "geo\n",
      "in_reply_to_user_id_str\n",
      "lang\n",
      "created_at\n",
      "in_reply_to_status_id_str\n",
      "place\n"
     ]
    }
   ],
   "source": [
    "response = requests.get(\"https://api.twitter.com/1.1/statuses/user_timeline.json\",\n",
    "                        auth=oauth)\n",
    "\n",
    "tweets = response.json()\n",
    "\n",
    "for key in tweets[0].keys():\n",
    "    print(key)"
   ]
  },
  {
   "cell_type": "code",
   "execution_count": 11,
   "metadata": {
    "collapsed": false
   },
   "outputs": [
    {
     "name": "stdout",
     "output_type": "stream",
     "text": [
      "@tiffany_li_x hey\n"
     ]
    }
   ],
   "source": [
    "for tweet in tweets:\n",
    "    print(tweet['text'])"
   ]
  },
  {
   "cell_type": "code",
   "execution_count": 12,
   "metadata": {
    "collapsed": false
   },
   "outputs": [
    {
     "name": "stdout",
     "output_type": "stream",
     "text": [
      "{u'completed_in': 0.073,\n",
      " u'count': 20,\n",
      " u'max_id': 834856817289265153,\n",
      " u'max_id_str': u'834856817289265153',\n",
      " u'next_results': u'?max_id=834856567048658945&q=trudeau&count=20&include_entities=1',\n",
      " u'query': u'trudeau',\n",
      " u'refresh_url': u'?since_id=834856817289265153&q=trudeau&include_entities=1',\n",
      " u'since_id': 0,\n",
      " u'since_id_str': u'0'}\n"
     ]
    }
   ],
   "source": [
    "parameters = {\"q\": \"trudeau\", \"count\":20}\n",
    "response = requests.get(\"https://api.twitter.com/1.1/search/tweets.json\",\n",
    "                        params = parameters,\n",
    "                        auth=oauth)\n",
    "\n",
    "from pprint import pprint\n",
    "pprint(response.json()['search_metadata'])"
   ]
  },
  {
   "cell_type": "code",
   "execution_count": 13,
   "metadata": {
    "collapsed": false
   },
   "outputs": [
    {
     "name": "stdout",
     "output_type": "stream",
     "text": [
      "PAGE 1\n",
      "834856817289265153 @TheFix Trump and a 2024 GOP primary slot to Canada for Trudeau. Who says no?\n",
      "834856814747398144 For everyone swooning over @JustinTrudeau he is Justin too good to be true.https://t.co/eQ6eq6O2zb\n",
      "834856811350011904 RT @goldengateblond: Justin Trudeau is all of us. https://t.co/su2ixX6DDe\n",
      "834856809794002946 RT @42MattCampbell: Trudeau has destroyed what it meant to be a Canadian. What a weak, pathetic excuse for a leader!@WANGNGEO\n",
      "834856762092158976 RT @ddale8: Summary of today's Trump-Trudeau call from the Canadian side: https://t.co/dRqZwfMHB4\n",
      "834856753527476231 RT @GlennMcmillan14: Monsef continues her lying Deceiving ways..supports her benefactor.🔥Trudeau! ..!What does she do??✔Well nothing..she's…\n",
      "834856724129521664 Canada PM Trudeau, Trump discuss border cooperation, lumber https://t.co/KWp3LpsLxv\n",
      "834856720065318915 Trudeau, Trump talk border issues, softwood: PMO https://t.co/SxBt3FEw1V\n",
      "834856707029364736 Trudeau, Trump talk border issues, softwood: PMO https://t.co/MyPyFvSEhN\n",
      "834856665149235204 RT @Franktmcveety: Trudeau's liberals are lying to Canadians once again not revealing how much this Carbon Tax will cost family households…\n",
      "834856609205645313 Time to 'get real' about economic anxieties, Trudeau tells Germans https://t.co/zyUzSv0jN9\n",
      "834856604172427265 RT @jkenney: Twelve former @RCAF_ARC Commanders tell PM Trudeau that his fighter jet replacement strategy is wrong. Who has more credibilit…\n",
      "834856573734383616 RT @OrcPawson: Because I called Justine Trudeau a numbnut: https://t.co/yB6FhYIGuG\n",
      "834856571268014083 RT @GlennMcmillan14: Monsef continues her lying Deceiving ways..supports her benefactor.🔥Trudeau! ..!What does she do??✔Well nothing..she's…\n",
      "834856567287713792 RT @AwscasBbc: https://t.co/YpZVgeU5hH\n",
      "\n",
      "Viola Légerِ\n",
      "Ron Hainseyِ\n",
      "#childrenfirstِ\n",
      "Trudeau and Trumpِ\n",
      "Charles Oakleyِ\n",
      "#HTGAWMِ\n",
      "834856567283531776 RT @AwscasBbc: https://t.co/YpZVgeU5hH\n",
      "\n",
      "Viola Légerِ\n",
      "Ron Hainseyِ\n",
      "#childrenfirstِ\n",
      "Trudeau and Trumpِ\n",
      "Charles Oakleyِ\n",
      "#HTGAWMِ\n",
      "834856567086444544 RT @AwscasBbc: https://t.co/YpZVgeU5hH\n",
      "\n",
      "Viola Légerِ\n",
      "Ron Hainseyِ\n",
      "#childrenfirstِ\n",
      "Trudeau and Trumpِ\n",
      "Charles Oakleyِ\n",
      "#HTGAWMِ\n",
      "834856567057035267 RT @AwscasBbc: https://t.co/YpZVgeU5hH\n",
      "\n",
      "Viola Légerِ\n",
      "Ron Hainseyِ\n",
      "#childrenfirstِ\n",
      "Trudeau and Trumpِ\n",
      "Charles Oakleyِ\n",
      "#HTGAWMِ\n",
      "834856567057027073 RT @AwscasBbc: https://t.co/YpZVgeU5hH\n",
      "\n",
      "Viola Légerِ\n",
      "Ron Hainseyِ\n",
      "#childrenfirstِ\n",
      "Trudeau and Trumpِ\n",
      "Charles Oakleyِ\n",
      "#HTGAWMِ\n",
      "834856567048658946 RT @AwscasBbc: https://t.co/YpZVgeU5hH\n",
      "\n",
      "Viola Légerِ\n",
      "Ron Hainseyِ\n",
      "#childrenfirstِ\n",
      "Trudeau and Trumpِ\n",
      "Charles Oakleyِ\n",
      "#HTGAWMِ\n"
     ]
    }
   ],
   "source": [
    "tweets = response.json()['statuses']\n",
    "\n",
    "print('PAGE 1')\n",
    "for tweet in tweets:\n",
    "    print(tweet['id'], tweet['text'])"
   ]
  },
  {
   "cell_type": "code",
   "execution_count": 14,
   "metadata": {
    "collapsed": false
   },
   "outputs": [
    {
     "name": "stdout",
     "output_type": "stream",
     "text": [
      "PAGE 2\n",
      "RT @AwscasBbc: https://t.co/YpZVgeU5hH\n",
      "\n",
      "Viola Légerِ\n",
      "Ron Hainseyِ\n",
      "#childrenfirstِ\n",
      "Trudeau and Trumpِ\n",
      "Charles Oakleyِ\n",
      "#HTGAWMِ\n",
      "Lobbying Commissioner investigating a fundraiser that featured PM Justin Trudeau #cdnpoli https://t.co/5NAU1VzFOJ https://t.co/05QOQargIE\n",
      "@TomassoRico @ThomasMulcair Trudeau is Canada's miracle...\n",
      "@InklessPW  Trudeau offered to take all US undocumented, failed asylum claimants, fly in those coming up from South America, Ghana, Africa.\n",
      "RT @azyazarozyazarr: bu cahil halk ve kültür düzeyi ile isterse Justin Trudeau başa geçsin, yine hiçbir şey olmaz. şunu unutmayın. AKP sebe…\n",
      "@RobSilver Conservatives have really gotta take Illinois back from Trudeau if they want to win in 2019.\n",
      "RT @Prem_S: Trudeau Effect: Most Canadians Distrust Government for First Time in 17 Years  https://t.co/GPFbKEwoEy #cdnpoli #uspoli\n",
      "https://t.co/YpZVgeU5hH\n",
      "\n",
      "Viola Légerِ\n",
      "Ron Hainseyِ\n",
      "#childrenfirstِ\n",
      "Trudeau and Trumpِ\n",
      "Charles Oakleyِ\n",
      "#HTGAWMِ\n",
      "Justin Trudeau, Donald Trump Chat On Phone About Border Issues, Softwood Lumber https://t.co/raPDT8PueE #cdnpoli\n",
      "RT @Franktmcveety: Trudeau calls five byelections for April 3, including former PM Harper’s old riding Let's vote the liberals out https://…\n",
      "RT @Prem_S: Trudeau Effect: Most Canadians Distrust Government for First Time in 17 Years  https://t.co/GPFbKEwoEy #cdnpoli #uspoli\n",
      "RT @Franktmcveety: Trudeau calls five byelections for April 3, including former PM Harper’s old riding Let's vote the liberals out https://…\n",
      "@PressSec Spicer starts Briefng w- round-up of day's events: Border talk w-PM Trudeau; Human trafficking, Executives https://t.co/CSTzrzfX20\n",
      "@gssmushy @shoe0nhead physical attractiveness is only half of what makes an attractive man. Trudeau is a joke.\n",
      "@ChristinaLaopho trudeau thinks hes a bad kid\n",
      "RT @hugorifkind: Britain's answer to Justin Trudeau. https://t.co/CGrDNeFhio\n",
      "@MicheleATittler @trutherbotwhite This hangs in Trudeau's office.  It was a gift from Butts.\n",
      "Para los que idolatran al joven Trudeau. Nada del BDS en las universidades canadienses. Que no? BDS y más BDS!! https://t.co/qmCTd5DS7m\n",
      "RT @ddale8: Summary of today's Trump-Trudeau call from the Canadian side: https://t.co/dRqZwfMHB4\n",
      "Sean Spicer pointing out that a read-out of call between #presidentTrump/PM Trudeau will be available soon.\n",
      "\n",
      "No leak?\n",
      "\n",
      "#PressBriefing\n"
     ]
    }
   ],
   "source": [
    "\n",
    "search_url = \"https://api.twitter.com/1.1/search/tweets.json\"\n",
    "next_page_url = search_url + response.json()['search_metadata']['next_results']\n",
    "\n",
    "response = requests.get(next_page_url, auth=oauth)\n",
    "\n",
    "print('PAGE 2')\n",
    "for tweet in response.json()['statuses']:\n",
    "    print(tweet['text'])"
   ]
  },
  {
   "cell_type": "code",
   "execution_count": 15,
   "metadata": {
    "collapsed": false
   },
   "outputs": [
    {
     "name": "stdout",
     "output_type": "stream",
     "text": [
      "Collecting tweepy\n",
      "  Downloading tweepy-3.5.0-py2.py3-none-any.whl\n",
      "Requirement already satisfied (use --upgrade to upgrade): six>=1.7.3 in /Users/connor/anaconda/lib/python2.7/site-packages (from tweepy)\n",
      "Requirement already satisfied (use --upgrade to upgrade): requests>=2.4.3 in /Users/connor/anaconda/lib/python2.7/site-packages (from tweepy)\n",
      "Requirement already satisfied (use --upgrade to upgrade): requests-oauthlib>=0.4.1 in /Users/connor/anaconda/lib/python2.7/site-packages (from tweepy)\n",
      "Requirement already satisfied (use --upgrade to upgrade): oauthlib>=0.6.2 in /Users/connor/anaconda/lib/python2.7/site-packages (from requests-oauthlib>=0.4.1->tweepy)\n",
      "Installing collected packages: tweepy\n",
      "Successfully installed tweepy-3.5.0\n"
     ]
    },
    {
     "name": "stderr",
     "output_type": "stream",
     "text": [
      "You are using pip version 8.1.2, however version 9.0.1 is available.\n",
      "You should consider upgrading via the 'pip install --upgrade pip' command.\n"
     ]
    }
   ],
   "source": [
    "%%bash\n",
    "pip install tweepy"
   ]
  },
  {
   "cell_type": "code",
   "execution_count": 16,
   "metadata": {
    "collapsed": true
   },
   "outputs": [],
   "source": [
    "import tweepy\n",
    "\n",
    "auth = tweepy.OAuthHandler(config[\"consumer_key\"],\n",
    "                           config[\"consumer_secret\"])\n",
    "auth.set_access_token(config[\"access_token\"],\n",
    "                      config[\"access_token_secret\"])\n",
    "\n",
    "api=tweepy.API(auth)"
   ]
  },
  {
   "cell_type": "code",
   "execution_count": 17,
   "metadata": {
    "collapsed": false
   },
   "outputs": [
    {
     "name": "stdout",
     "output_type": "stream",
     "text": [
      "Status(contributors=None, truncated=False, text=u'RT @asmith83: \"A spokeswoman for Ivanka Trump declined to comment on her position.\" https://t.co/GH4HHOemFP', is_quote_status=True, in_reply_to_status_id=None, id=834858707464896512, favorite_count=0, _api=<tweepy.api.API object at 0x1129c4710>, source=u'Twitter for iPhone', quoted_status_id=834857647140634626, _json={u'contributors': None, u'truncated': False, u'text': u'RT @asmith83: \"A spokeswoman for Ivanka Trump declined to comment on her position.\" https://t.co/GH4HHOemFP', u'is_quote_status': True, u'in_reply_to_status_id': None, u'id': 834858707464896512, u'favorite_count': 0, u'entities': {u'symbols': [], u'user_mentions': [{u'id': 7591572, u'indices': [3, 12], u'id_str': u'7591572', u'screen_name': u'asmith83', u'name': u'Adam Smith'}], u'hashtags': [], u'urls': [{u'url': u'https://t.co/GH4HHOemFP', u'indices': [84, 107], u'expanded_url': u'https://twitter.com/politico/status/834857647140634626', u'display_url': u'twitter.com/politico/statu\\u2026'}]}, u'quoted_status_id': 834857647140634626, u'retweeted': False, u'coordinates': None, u'source': u'<a href=\"http://twitter.com/download/iphone\" rel=\"nofollow\">Twitter for iPhone</a>', u'in_reply_to_screen_name': None, u'in_reply_to_user_id': None, u'retweet_count': 25, u'id_str': u'834858707464896512', u'favorited': False, u'retweeted_status': {u'contributors': None, u'truncated': False, u'text': u'\"A spokeswoman for Ivanka Trump declined to comment on her position.\" https://t.co/GH4HHOemFP', u'is_quote_status': True, u'in_reply_to_status_id': None, u'id': 834857850115604482, u'favorite_count': 26, u'entities': {u'symbols': [], u'user_mentions': [], u'hashtags': [], u'urls': [{u'url': u'https://t.co/GH4HHOemFP', u'indices': [70, 93], u'expanded_url': u'https://twitter.com/politico/status/834857647140634626', u'display_url': u'twitter.com/politico/statu\\u2026'}]}, u'quoted_status_id': 834857647140634626, u'retweeted': False, u'coordinates': None, u'quoted_status': {u'contributors': None, u'truncated': True, u'text': u'Ivanka Trump, Jared Kushner publicly silent as White House rolls back transgender protections\\u2026 https://t.co/hkKAaQxqXh', u'is_quote_status': False, u'in_reply_to_status_id': None, u'id': 834857647140634626, u'favorite_count': 30, u'entities': {u'symbols': [], u'user_mentions': [], u'hashtags': [], u'urls': [{u'url': u'https://t.co/hkKAaQxqXh', u'indices': [95, 118], u'expanded_url': u'https://twitter.com/i/web/status/834857647140634626', u'display_url': u'twitter.com/i/web/status/8\\u2026'}]}, u'retweeted': False, u'coordinates': None, u'source': u'<a href=\"http://www.socialflow.com\" rel=\"nofollow\">SocialFlow</a>', u'in_reply_to_screen_name': None, u'in_reply_to_user_id': None, u'retweet_count': 38, u'id_str': u'834857647140634626', u'favorited': False, u'user': {u'follow_request_sent': False, u'has_extended_profile': False, u'profile_use_background_image': False, u'default_profile_image': False, u'id': 9300262, u'profile_background_image_url_https': u'https://pbs.twimg.com/profile_background_images/796212188/bbdc5e3f7842b5b33f418ac5bc9685ee.jpeg', u'verified': True, u'translator_type': u'regular', u'profile_text_color': u'333333', u'profile_image_url_https': u'https://pbs.twimg.com/profile_images/677177503694237697/y6yTzWn6_normal.png', u'profile_sidebar_fill_color': u'DDEEF6', u'entities': {u'url': {u'urls': [{u'url': u'https://t.co/BE5JFzmnFU', u'indices': [0, 23], u'expanded_url': u'http://www.politico.com', u'display_url': u'politico.com'}]}, u'description': {u'urls': []}}, u'followers_count': 2695353, u'profile_sidebar_border_color': u'FFFFFF', u'id_str': u'9300262', u'profile_background_color': u'E6E6E6', u'listed_count': 33938, u'is_translation_enabled': False, u'utc_offset': -18000, u'statuses_count': 211757, u'description': u'Nobody knows politics like POLITICO.', u'friends_count': 1240, u'location': u'Washington, D.C.', u'profile_link_color': u'DD2E44', u'profile_image_url': u'http://pbs.twimg.com/profile_images/677177503694237697/y6yTzWn6_normal.png', u'following': False, u'geo_enabled': True, u'profile_banner_url': u'https://pbs.twimg.com/profile_banners/9300262/1479760803', u'profile_background_image_url': u'http://pbs.twimg.com/profile_background_images/796212188/bbdc5e3f7842b5b33f418ac5bc9685ee.jpeg', u'screen_name': u'politico', u'lang': u'en', u'profile_background_tile': True, u'favourites_count': 8, u'name': u'POLITICO', u'notifications': False, u'url': u'https://t.co/BE5JFzmnFU', u'created_at': u'Mon Oct 08 00:29:38 +0000 2007', u'contributors_enabled': False, u'time_zone': u'Eastern Time (US & Canada)', u'protected': False, u'default_profile': False, u'is_translator': False}, u'geo': None, u'in_reply_to_user_id_str': None, u'possibly_sensitive': False, u'lang': u'en', u'created_at': u'Thu Feb 23 20:09:08 +0000 2017', u'in_reply_to_status_id_str': None, u'place': None, u'metadata': {u'iso_language_code': u'en', u'result_type': u'recent'}}, u'source': u'<a href=\"https://about.twitter.com/products/tweetdeck\" rel=\"nofollow\">TweetDeck</a>', u'in_reply_to_screen_name': None, u'in_reply_to_user_id': None, u'retweet_count': 25, u'id_str': u'834857850115604482', u'favorited': False, u'user': {u'follow_request_sent': False, u'has_extended_profile': True, u'profile_use_background_image': True, u'default_profile_image': False, u'id': 7591572, u'profile_background_image_url_https': u'https://abs.twimg.com/images/themes/theme15/bg.png', u'verified': True, u'translator_type': u'none', u'profile_text_color': u'333333', u'profile_image_url_https': u'https://pbs.twimg.com/profile_images/801088201364557825/uK08a5Yh_normal.jpg', u'profile_sidebar_fill_color': u'C0DFEC', u'entities': {u'url': {u'urls': [{u'url': u'https://t.co/Lb50eBS8Vi', u'indices': [0, 23], u'expanded_url': u'http://www.everyvoice.org/dailyclips', u'display_url': u'everyvoice.org/dailyclips'}]}, u'description': {u'urls': []}}, u'followers_count': 17318, u'profile_sidebar_border_color': u'A8C7F7', u'id_str': u'7591572', u'profile_background_color': u'022330', u'listed_count': 667, u'is_translation_enabled': False, u'utc_offset': -18000, u'statuses_count': 76757, u'description': u'Politics. Campaign Reform. Pop Culture. Comm. Director at @everyvoice. Texts from Hillary co-creator. Gchat: adamsmith4', u'friends_count': 2755, u'location': u'\\xdcT: 38.90544,-77.041408', u'profile_link_color': u'0084B4', u'profile_image_url': u'http://pbs.twimg.com/profile_images/801088201364557825/uK08a5Yh_normal.jpg', u'following': False, u'geo_enabled': True, u'profile_banner_url': u'https://pbs.twimg.com/profile_banners/7591572/1480946881', u'profile_background_image_url': u'http://abs.twimg.com/images/themes/theme15/bg.png', u'screen_name': u'asmith83', u'lang': u'en', u'profile_background_tile': False, u'favourites_count': 28626, u'name': u'Adam Smith', u'notifications': False, u'url': u'https://t.co/Lb50eBS8Vi', u'created_at': u'Thu Jul 19 18:08:40 +0000 2007', u'contributors_enabled': False, u'time_zone': u'Eastern Time (US & Canada)', u'protected': False, u'default_profile': False, u'is_translator': False}, u'geo': None, u'in_reply_to_user_id_str': None, u'possibly_sensitive': False, u'lang': u'en', u'created_at': u'Thu Feb 23 20:09:57 +0000 2017', u'quoted_status_id_str': u'834857647140634626', u'in_reply_to_status_id_str': None, u'place': None, u'metadata': {u'iso_language_code': u'en', u'result_type': u'recent'}}, u'user': {u'follow_request_sent': False, u'has_extended_profile': True, u'profile_use_background_image': True, u'default_profile_image': False, u'id': 56521261, u'profile_background_image_url_https': u'https://pbs.twimg.com/profile_background_images/434540183141097472/fmfNnBFR.jpeg', u'verified': False, u'translator_type': u'none', u'profile_text_color': u'E7E7F0', u'profile_image_url_https': u'https://pbs.twimg.com/profile_images/821540006225395712/LeIpm730_normal.jpg', u'profile_sidebar_fill_color': u'CC3333', u'entities': {u'url': {u'urls': [{u'url': u'https://t.co/kvKxlr5SkH', u'indices': [0, 23], u'expanded_url': u'http://twitch.tv/DarkHaze15', u'display_url': u'twitch.tv/DarkHaze15'}]}, u'description': {u'urls': []}}, u'followers_count': 757, u'profile_sidebar_border_color': u'000000', u'id_str': u'56521261', u'profile_background_color': u'FFFFFF', u'listed_count': 20, u'is_translation_enabled': False, u'utc_offset': -21600, u'statuses_count': 41988, u'description': u'I make videos once or twice a year. Assistant Manager at Strickland Propane. #WomensWrestling #BlackLivesMatter (Gamertag/PSN: DarkHaze15) #WWE2K17', u'friends_count': 745, u'location': u'Spring, TX', u'profile_link_color': u'12E33C', u'profile_image_url': u'http://pbs.twimg.com/profile_images/821540006225395712/LeIpm730_normal.jpg', u'following': False, u'geo_enabled': True, u'profile_banner_url': u'https://pbs.twimg.com/profile_banners/56521261/1486959696', u'profile_background_image_url': u'http://pbs.twimg.com/profile_background_images/434540183141097472/fmfNnBFR.jpeg', u'screen_name': u'DarkHaze4L', u'lang': u'en', u'profile_background_tile': False, u'favourites_count': 14765, u'name': u'Oscar Garcia \\U0001f918\\U0001f3fd', u'notifications': False, u'url': u'https://t.co/kvKxlr5SkH', u'created_at': u'Mon Jul 13 22:49:49 +0000 2009', u'contributors_enabled': False, u'time_zone': u'Central Time (US & Canada)', u'protected': False, u'default_profile': False, u'is_translator': False}, u'geo': None, u'in_reply_to_user_id_str': None, u'possibly_sensitive': False, u'lang': u'en', u'created_at': u'Thu Feb 23 20:13:21 +0000 2017', u'quoted_status_id_str': u'834857647140634626', u'in_reply_to_status_id_str': None, u'place': None, u'metadata': {u'iso_language_code': u'en', u'result_type': u'recent'}}, coordinates=None, entities={u'symbols': [], u'user_mentions': [{u'id': 7591572, u'indices': [3, 12], u'id_str': u'7591572', u'screen_name': u'asmith83', u'name': u'Adam Smith'}], u'hashtags': [], u'urls': [{u'url': u'https://t.co/GH4HHOemFP', u'indices': [84, 107], u'expanded_url': u'https://twitter.com/politico/status/834857647140634626', u'display_url': u'twitter.com/politico/statu\\u2026'}]}, in_reply_to_screen_name=None, id_str=u'834858707464896512', retweet_count=25, in_reply_to_user_id=None, favorited=False, retweeted_status=Status(contributors=None, truncated=False, text=u'\"A spokeswoman for Ivanka Trump declined to comment on her position.\" https://t.co/GH4HHOemFP', is_quote_status=True, in_reply_to_status_id=None, id=834857850115604482, favorite_count=26, _api=<tweepy.api.API object at 0x1129c4710>, source=u'TweetDeck', quoted_status_id=834857647140634626, _json={u'contributors': None, u'truncated': False, u'text': u'\"A spokeswoman for Ivanka Trump declined to comment on her position.\" https://t.co/GH4HHOemFP', u'is_quote_status': True, u'in_reply_to_status_id': None, u'id': 834857850115604482, u'favorite_count': 26, u'entities': {u'symbols': [], u'user_mentions': [], u'hashtags': [], u'urls': [{u'url': u'https://t.co/GH4HHOemFP', u'indices': [70, 93], u'expanded_url': u'https://twitter.com/politico/status/834857647140634626', u'display_url': u'twitter.com/politico/statu\\u2026'}]}, u'quoted_status_id': 834857647140634626, u'retweeted': False, u'coordinates': None, u'quoted_status': {u'contributors': None, u'truncated': True, u'text': u'Ivanka Trump, Jared Kushner publicly silent as White House rolls back transgender protections\\u2026 https://t.co/hkKAaQxqXh', u'is_quote_status': False, u'in_reply_to_status_id': None, u'id': 834857647140634626, u'favorite_count': 30, u'entities': {u'symbols': [], u'user_mentions': [], u'hashtags': [], u'urls': [{u'url': u'https://t.co/hkKAaQxqXh', u'indices': [95, 118], u'expanded_url': u'https://twitter.com/i/web/status/834857647140634626', u'display_url': u'twitter.com/i/web/status/8\\u2026'}]}, u'retweeted': False, u'coordinates': None, u'source': u'<a href=\"http://www.socialflow.com\" rel=\"nofollow\">SocialFlow</a>', u'in_reply_to_screen_name': None, u'in_reply_to_user_id': None, u'retweet_count': 38, u'id_str': u'834857647140634626', u'favorited': False, u'user': {u'follow_request_sent': False, u'has_extended_profile': False, u'profile_use_background_image': False, u'default_profile_image': False, u'id': 9300262, u'profile_background_image_url_https': u'https://pbs.twimg.com/profile_background_images/796212188/bbdc5e3f7842b5b33f418ac5bc9685ee.jpeg', u'verified': True, u'translator_type': u'regular', u'profile_text_color': u'333333', u'profile_image_url_https': u'https://pbs.twimg.com/profile_images/677177503694237697/y6yTzWn6_normal.png', u'profile_sidebar_fill_color': u'DDEEF6', u'entities': {u'url': {u'urls': [{u'url': u'https://t.co/BE5JFzmnFU', u'indices': [0, 23], u'expanded_url': u'http://www.politico.com', u'display_url': u'politico.com'}]}, u'description': {u'urls': []}}, u'followers_count': 2695353, u'profile_sidebar_border_color': u'FFFFFF', u'id_str': u'9300262', u'profile_background_color': u'E6E6E6', u'listed_count': 33938, u'is_translation_enabled': False, u'utc_offset': -18000, u'statuses_count': 211757, u'description': u'Nobody knows politics like POLITICO.', u'friends_count': 1240, u'location': u'Washington, D.C.', u'profile_link_color': u'DD2E44', u'profile_image_url': u'http://pbs.twimg.com/profile_images/677177503694237697/y6yTzWn6_normal.png', u'following': False, u'geo_enabled': True, u'profile_banner_url': u'https://pbs.twimg.com/profile_banners/9300262/1479760803', u'profile_background_image_url': u'http://pbs.twimg.com/profile_background_images/796212188/bbdc5e3f7842b5b33f418ac5bc9685ee.jpeg', u'screen_name': u'politico', u'lang': u'en', u'profile_background_tile': True, u'favourites_count': 8, u'name': u'POLITICO', u'notifications': False, u'url': u'https://t.co/BE5JFzmnFU', u'created_at': u'Mon Oct 08 00:29:38 +0000 2007', u'contributors_enabled': False, u'time_zone': u'Eastern Time (US & Canada)', u'protected': False, u'default_profile': False, u'is_translator': False}, u'geo': None, u'in_reply_to_user_id_str': None, u'possibly_sensitive': False, u'lang': u'en', u'created_at': u'Thu Feb 23 20:09:08 +0000 2017', u'in_reply_to_status_id_str': None, u'place': None, u'metadata': {u'iso_language_code': u'en', u'result_type': u'recent'}}, u'source': u'<a href=\"https://about.twitter.com/products/tweetdeck\" rel=\"nofollow\">TweetDeck</a>', u'in_reply_to_screen_name': None, u'in_reply_to_user_id': None, u'retweet_count': 25, u'id_str': u'834857850115604482', u'favorited': False, u'user': {u'follow_request_sent': False, u'has_extended_profile': True, u'profile_use_background_image': True, u'default_profile_image': False, u'id': 7591572, u'profile_background_image_url_https': u'https://abs.twimg.com/images/themes/theme15/bg.png', u'verified': True, u'translator_type': u'none', u'profile_text_color': u'333333', u'profile_image_url_https': u'https://pbs.twimg.com/profile_images/801088201364557825/uK08a5Yh_normal.jpg', u'profile_sidebar_fill_color': u'C0DFEC', u'entities': {u'url': {u'urls': [{u'url': u'https://t.co/Lb50eBS8Vi', u'indices': [0, 23], u'expanded_url': u'http://www.everyvoice.org/dailyclips', u'display_url': u'everyvoice.org/dailyclips'}]}, u'description': {u'urls': []}}, u'followers_count': 17318, u'profile_sidebar_border_color': u'A8C7F7', u'id_str': u'7591572', u'profile_background_color': u'022330', u'listed_count': 667, u'is_translation_enabled': False, u'utc_offset': -18000, u'statuses_count': 76757, u'description': u'Politics. Campaign Reform. Pop Culture. Comm. Director at @everyvoice. Texts from Hillary co-creator. Gchat: adamsmith4', u'friends_count': 2755, u'location': u'\\xdcT: 38.90544,-77.041408', u'profile_link_color': u'0084B4', u'profile_image_url': u'http://pbs.twimg.com/profile_images/801088201364557825/uK08a5Yh_normal.jpg', u'following': False, u'geo_enabled': True, u'profile_banner_url': u'https://pbs.twimg.com/profile_banners/7591572/1480946881', u'profile_background_image_url': u'http://abs.twimg.com/images/themes/theme15/bg.png', u'screen_name': u'asmith83', u'lang': u'en', u'profile_background_tile': False, u'favourites_count': 28626, u'name': u'Adam Smith', u'notifications': False, u'url': u'https://t.co/Lb50eBS8Vi', u'created_at': u'Thu Jul 19 18:08:40 +0000 2007', u'contributors_enabled': False, u'time_zone': u'Eastern Time (US & Canada)', u'protected': False, u'default_profile': False, u'is_translator': False}, u'geo': None, u'in_reply_to_user_id_str': None, u'possibly_sensitive': False, u'lang': u'en', u'created_at': u'Thu Feb 23 20:09:57 +0000 2017', u'quoted_status_id_str': u'834857647140634626', u'in_reply_to_status_id_str': None, u'place': None, u'metadata': {u'iso_language_code': u'en', u'result_type': u'recent'}}, coordinates=None, quoted_status={u'contributors': None, u'truncated': True, u'text': u'Ivanka Trump, Jared Kushner publicly silent as White House rolls back transgender protections\\u2026 https://t.co/hkKAaQxqXh', u'is_quote_status': False, u'in_reply_to_status_id': None, u'id': 834857647140634626, u'favorite_count': 30, u'entities': {u'symbols': [], u'user_mentions': [], u'hashtags': [], u'urls': [{u'url': u'https://t.co/hkKAaQxqXh', u'indices': [95, 118], u'expanded_url': u'https://twitter.com/i/web/status/834857647140634626', u'display_url': u'twitter.com/i/web/status/8\\u2026'}]}, u'retweeted': False, u'coordinates': None, u'source': u'<a href=\"http://www.socialflow.com\" rel=\"nofollow\">SocialFlow</a>', u'in_reply_to_screen_name': None, u'in_reply_to_user_id': None, u'retweet_count': 38, u'id_str': u'834857647140634626', u'favorited': False, u'user': {u'follow_request_sent': False, u'has_extended_profile': False, u'profile_use_background_image': False, u'default_profile_image': False, u'id': 9300262, u'profile_background_image_url_https': u'https://pbs.twimg.com/profile_background_images/796212188/bbdc5e3f7842b5b33f418ac5bc9685ee.jpeg', u'verified': True, u'translator_type': u'regular', u'profile_text_color': u'333333', u'profile_image_url_https': u'https://pbs.twimg.com/profile_images/677177503694237697/y6yTzWn6_normal.png', u'profile_sidebar_fill_color': u'DDEEF6', u'entities': {u'url': {u'urls': [{u'url': u'https://t.co/BE5JFzmnFU', u'indices': [0, 23], u'expanded_url': u'http://www.politico.com', u'display_url': u'politico.com'}]}, u'description': {u'urls': []}}, u'followers_count': 2695353, u'profile_sidebar_border_color': u'FFFFFF', u'id_str': u'9300262', u'profile_background_color': u'E6E6E6', u'listed_count': 33938, u'is_translation_enabled': False, u'utc_offset': -18000, u'statuses_count': 211757, u'description': u'Nobody knows politics like POLITICO.', u'friends_count': 1240, u'location': u'Washington, D.C.', u'profile_link_color': u'DD2E44', u'profile_image_url': u'http://pbs.twimg.com/profile_images/677177503694237697/y6yTzWn6_normal.png', u'following': False, u'geo_enabled': True, u'profile_banner_url': u'https://pbs.twimg.com/profile_banners/9300262/1479760803', u'profile_background_image_url': u'http://pbs.twimg.com/profile_background_images/796212188/bbdc5e3f7842b5b33f418ac5bc9685ee.jpeg', u'screen_name': u'politico', u'lang': u'en', u'profile_background_tile': True, u'favourites_count': 8, u'name': u'POLITICO', u'notifications': False, u'url': u'https://t.co/BE5JFzmnFU', u'created_at': u'Mon Oct 08 00:29:38 +0000 2007', u'contributors_enabled': False, u'time_zone': u'Eastern Time (US & Canada)', u'protected': False, u'default_profile': False, u'is_translator': False}, u'geo': None, u'in_reply_to_user_id_str': None, u'possibly_sensitive': False, u'lang': u'en', u'created_at': u'Thu Feb 23 20:09:08 +0000 2017', u'in_reply_to_status_id_str': None, u'place': None, u'metadata': {u'iso_language_code': u'en', u'result_type': u'recent'}}, entities={u'symbols': [], u'user_mentions': [], u'hashtags': [], u'urls': [{u'url': u'https://t.co/GH4HHOemFP', u'indices': [70, 93], u'expanded_url': u'https://twitter.com/politico/status/834857647140634626', u'display_url': u'twitter.com/politico/statu\\u2026'}]}, in_reply_to_screen_name=None, id_str=u'834857850115604482', retweet_count=25, in_reply_to_user_id=None, favorited=False, source_url=u'https://about.twitter.com/products/tweetdeck', user=User(follow_request_sent=False, has_extended_profile=True, profile_use_background_image=True, _json={u'follow_request_sent': False, u'has_extended_profile': True, u'profile_use_background_image': True, u'default_profile_image': False, u'id': 7591572, u'profile_background_image_url_https': u'https://abs.twimg.com/images/themes/theme15/bg.png', u'verified': True, u'translator_type': u'none', u'profile_text_color': u'333333', u'profile_image_url_https': u'https://pbs.twimg.com/profile_images/801088201364557825/uK08a5Yh_normal.jpg', u'profile_sidebar_fill_color': u'C0DFEC', u'entities': {u'url': {u'urls': [{u'url': u'https://t.co/Lb50eBS8Vi', u'indices': [0, 23], u'expanded_url': u'http://www.everyvoice.org/dailyclips', u'display_url': u'everyvoice.org/dailyclips'}]}, u'description': {u'urls': []}}, u'followers_count': 17318, u'profile_sidebar_border_color': u'A8C7F7', u'id_str': u'7591572', u'profile_background_color': u'022330', u'listed_count': 667, u'is_translation_enabled': False, u'utc_offset': -18000, u'statuses_count': 76757, u'description': u'Politics. Campaign Reform. Pop Culture. Comm. Director at @everyvoice. Texts from Hillary co-creator. Gchat: adamsmith4', u'friends_count': 2755, u'location': u'\\xdcT: 38.90544,-77.041408', u'profile_link_color': u'0084B4', u'profile_image_url': u'http://pbs.twimg.com/profile_images/801088201364557825/uK08a5Yh_normal.jpg', u'following': False, u'geo_enabled': True, u'profile_banner_url': u'https://pbs.twimg.com/profile_banners/7591572/1480946881', u'profile_background_image_url': u'http://abs.twimg.com/images/themes/theme15/bg.png', u'screen_name': u'asmith83', u'lang': u'en', u'profile_background_tile': False, u'favourites_count': 28626, u'name': u'Adam Smith', u'notifications': False, u'url': u'https://t.co/Lb50eBS8Vi', u'created_at': u'Thu Jul 19 18:08:40 +0000 2007', u'contributors_enabled': False, u'time_zone': u'Eastern Time (US & Canada)', u'protected': False, u'default_profile': False, u'is_translator': False}, time_zone=u'Eastern Time (US & Canada)', id=7591572, description=u'Politics. Campaign Reform. Pop Culture. Comm. Director at @everyvoice. Texts from Hillary co-creator. Gchat: adamsmith4', _api=<tweepy.api.API object at 0x1129c4710>, verified=True, profile_text_color=u'333333', profile_image_url_https=u'https://pbs.twimg.com/profile_images/801088201364557825/uK08a5Yh_normal.jpg', profile_sidebar_fill_color=u'C0DFEC', is_translator=False, geo_enabled=True, entities={u'url': {u'urls': [{u'url': u'https://t.co/Lb50eBS8Vi', u'indices': [0, 23], u'expanded_url': u'http://www.everyvoice.org/dailyclips', u'display_url': u'everyvoice.org/dailyclips'}]}, u'description': {u'urls': []}}, followers_count=17318, protected=False, id_str=u'7591572', default_profile_image=False, listed_count=667, lang=u'en', utc_offset=-18000, statuses_count=76757, profile_background_color=u'022330', friends_count=2755, profile_link_color=u'0084B4', profile_image_url=u'http://pbs.twimg.com/profile_images/801088201364557825/uK08a5Yh_normal.jpg', notifications=False, default_profile=False, profile_background_image_url_https=u'https://abs.twimg.com/images/themes/theme15/bg.png', profile_banner_url=u'https://pbs.twimg.com/profile_banners/7591572/1480946881', profile_background_image_url=u'http://abs.twimg.com/images/themes/theme15/bg.png', name=u'Adam Smith', is_translation_enabled=False, profile_background_tile=False, favourites_count=28626, screen_name=u'asmith83', url=u'https://t.co/Lb50eBS8Vi', created_at=datetime.datetime(2007, 7, 19, 18, 8, 40), contributors_enabled=False, location=u'\\xdcT: 38.90544,-77.041408', profile_sidebar_border_color=u'A8C7F7', translator_type=u'none', following=False), geo=None, in_reply_to_user_id_str=None, possibly_sensitive=False, lang=u'en', created_at=datetime.datetime(2017, 2, 23, 20, 9, 57), author=User(follow_request_sent=False, has_extended_profile=True, profile_use_background_image=True, _json={u'follow_request_sent': False, u'has_extended_profile': True, u'profile_use_background_image': True, u'default_profile_image': False, u'id': 7591572, u'profile_background_image_url_https': u'https://abs.twimg.com/images/themes/theme15/bg.png', u'verified': True, u'translator_type': u'none', u'profile_text_color': u'333333', u'profile_image_url_https': u'https://pbs.twimg.com/profile_images/801088201364557825/uK08a5Yh_normal.jpg', u'profile_sidebar_fill_color': u'C0DFEC', u'entities': {u'url': {u'urls': [{u'url': u'https://t.co/Lb50eBS8Vi', u'indices': [0, 23], u'expanded_url': u'http://www.everyvoice.org/dailyclips', u'display_url': u'everyvoice.org/dailyclips'}]}, u'description': {u'urls': []}}, u'followers_count': 17318, u'profile_sidebar_border_color': u'A8C7F7', u'id_str': u'7591572', u'profile_background_color': u'022330', u'listed_count': 667, u'is_translation_enabled': False, u'utc_offset': -18000, u'statuses_count': 76757, u'description': u'Politics. Campaign Reform. Pop Culture. Comm. Director at @everyvoice. Texts from Hillary co-creator. Gchat: adamsmith4', u'friends_count': 2755, u'location': u'\\xdcT: 38.90544,-77.041408', u'profile_link_color': u'0084B4', u'profile_image_url': u'http://pbs.twimg.com/profile_images/801088201364557825/uK08a5Yh_normal.jpg', u'following': False, u'geo_enabled': True, u'profile_banner_url': u'https://pbs.twimg.com/profile_banners/7591572/1480946881', u'profile_background_image_url': u'http://abs.twimg.com/images/themes/theme15/bg.png', u'screen_name': u'asmith83', u'lang': u'en', u'profile_background_tile': False, u'favourites_count': 28626, u'name': u'Adam Smith', u'notifications': False, u'url': u'https://t.co/Lb50eBS8Vi', u'created_at': u'Thu Jul 19 18:08:40 +0000 2007', u'contributors_enabled': False, u'time_zone': u'Eastern Time (US & Canada)', u'protected': False, u'default_profile': False, u'is_translator': False}, time_zone=u'Eastern Time (US & Canada)', id=7591572, description=u'Politics. Campaign Reform. Pop Culture. Comm. Director at @everyvoice. Texts from Hillary co-creator. Gchat: adamsmith4', _api=<tweepy.api.API object at 0x1129c4710>, verified=True, profile_text_color=u'333333', profile_image_url_https=u'https://pbs.twimg.com/profile_images/801088201364557825/uK08a5Yh_normal.jpg', profile_sidebar_fill_color=u'C0DFEC', is_translator=False, geo_enabled=True, entities={u'url': {u'urls': [{u'url': u'https://t.co/Lb50eBS8Vi', u'indices': [0, 23], u'expanded_url': u'http://www.everyvoice.org/dailyclips', u'display_url': u'everyvoice.org/dailyclips'}]}, u'description': {u'urls': []}}, followers_count=17318, protected=False, id_str=u'7591572', default_profile_image=False, listed_count=667, lang=u'en', utc_offset=-18000, statuses_count=76757, profile_background_color=u'022330', friends_count=2755, profile_link_color=u'0084B4', profile_image_url=u'http://pbs.twimg.com/profile_images/801088201364557825/uK08a5Yh_normal.jpg', notifications=False, default_profile=False, profile_background_image_url_https=u'https://abs.twimg.com/images/themes/theme15/bg.png', profile_banner_url=u'https://pbs.twimg.com/profile_banners/7591572/1480946881', profile_background_image_url=u'http://abs.twimg.com/images/themes/theme15/bg.png', name=u'Adam Smith', is_translation_enabled=False, profile_background_tile=False, favourites_count=28626, screen_name=u'asmith83', url=u'https://t.co/Lb50eBS8Vi', created_at=datetime.datetime(2007, 7, 19, 18, 8, 40), contributors_enabled=False, location=u'\\xdcT: 38.90544,-77.041408', profile_sidebar_border_color=u'A8C7F7', translator_type=u'none', following=False), quoted_status_id_str=u'834857647140634626', in_reply_to_status_id_str=None, place=None, retweeted=False, metadata={u'iso_language_code': u'en', u'result_type': u'recent'}), source_url=u'http://twitter.com/download/iphone', user=User(follow_request_sent=False, has_extended_profile=True, profile_use_background_image=True, _json={u'follow_request_sent': False, u'has_extended_profile': True, u'profile_use_background_image': True, u'default_profile_image': False, u'id': 56521261, u'profile_background_image_url_https': u'https://pbs.twimg.com/profile_background_images/434540183141097472/fmfNnBFR.jpeg', u'verified': False, u'translator_type': u'none', u'profile_text_color': u'E7E7F0', u'profile_image_url_https': u'https://pbs.twimg.com/profile_images/821540006225395712/LeIpm730_normal.jpg', u'profile_sidebar_fill_color': u'CC3333', u'entities': {u'url': {u'urls': [{u'url': u'https://t.co/kvKxlr5SkH', u'indices': [0, 23], u'expanded_url': u'http://twitch.tv/DarkHaze15', u'display_url': u'twitch.tv/DarkHaze15'}]}, u'description': {u'urls': []}}, u'followers_count': 757, u'profile_sidebar_border_color': u'000000', u'id_str': u'56521261', u'profile_background_color': u'FFFFFF', u'listed_count': 20, u'is_translation_enabled': False, u'utc_offset': -21600, u'statuses_count': 41988, u'description': u'I make videos once or twice a year. Assistant Manager at Strickland Propane. #WomensWrestling #BlackLivesMatter (Gamertag/PSN: DarkHaze15) #WWE2K17', u'friends_count': 745, u'location': u'Spring, TX', u'profile_link_color': u'12E33C', u'profile_image_url': u'http://pbs.twimg.com/profile_images/821540006225395712/LeIpm730_normal.jpg', u'following': False, u'geo_enabled': True, u'profile_banner_url': u'https://pbs.twimg.com/profile_banners/56521261/1486959696', u'profile_background_image_url': u'http://pbs.twimg.com/profile_background_images/434540183141097472/fmfNnBFR.jpeg', u'screen_name': u'DarkHaze4L', u'lang': u'en', u'profile_background_tile': False, u'favourites_count': 14765, u'name': u'Oscar Garcia \\U0001f918\\U0001f3fd', u'notifications': False, u'url': u'https://t.co/kvKxlr5SkH', u'created_at': u'Mon Jul 13 22:49:49 +0000 2009', u'contributors_enabled': False, u'time_zone': u'Central Time (US & Canada)', u'protected': False, u'default_profile': False, u'is_translator': False}, time_zone=u'Central Time (US & Canada)', id=56521261, description=u'I make videos once or twice a year. Assistant Manager at Strickland Propane. #WomensWrestling #BlackLivesMatter (Gamertag/PSN: DarkHaze15) #WWE2K17', _api=<tweepy.api.API object at 0x1129c4710>, verified=False, profile_text_color=u'E7E7F0', profile_image_url_https=u'https://pbs.twimg.com/profile_images/821540006225395712/LeIpm730_normal.jpg', profile_sidebar_fill_color=u'CC3333', is_translator=False, geo_enabled=True, entities={u'url': {u'urls': [{u'url': u'https://t.co/kvKxlr5SkH', u'indices': [0, 23], u'expanded_url': u'http://twitch.tv/DarkHaze15', u'display_url': u'twitch.tv/DarkHaze15'}]}, u'description': {u'urls': []}}, followers_count=757, protected=False, id_str=u'56521261', default_profile_image=False, listed_count=20, lang=u'en', utc_offset=-21600, statuses_count=41988, profile_background_color=u'FFFFFF', friends_count=745, profile_link_color=u'12E33C', profile_image_url=u'http://pbs.twimg.com/profile_images/821540006225395712/LeIpm730_normal.jpg', notifications=False, default_profile=False, profile_background_image_url_https=u'https://pbs.twimg.com/profile_background_images/434540183141097472/fmfNnBFR.jpeg', profile_banner_url=u'https://pbs.twimg.com/profile_banners/56521261/1486959696', profile_background_image_url=u'http://pbs.twimg.com/profile_background_images/434540183141097472/fmfNnBFR.jpeg', name=u'Oscar Garcia \\U0001f918\\U0001f3fd', is_translation_enabled=False, profile_background_tile=False, favourites_count=14765, screen_name=u'DarkHaze4L', url=u'https://t.co/kvKxlr5SkH', created_at=datetime.datetime(2009, 7, 13, 22, 49, 49), contributors_enabled=False, location=u'Spring, TX', profile_sidebar_border_color=u'000000', translator_type=u'none', following=False), geo=None, in_reply_to_user_id_str=None, possibly_sensitive=False, lang=u'en', created_at=datetime.datetime(2017, 2, 23, 20, 13, 21), author=User(follow_request_sent=False, has_extended_profile=True, profile_use_background_image=True, _json={u'follow_request_sent': False, u'has_extended_profile': True, u'profile_use_background_image': True, u'default_profile_image': False, u'id': 56521261, u'profile_background_image_url_https': u'https://pbs.twimg.com/profile_background_images/434540183141097472/fmfNnBFR.jpeg', u'verified': False, u'translator_type': u'none', u'profile_text_color': u'E7E7F0', u'profile_image_url_https': u'https://pbs.twimg.com/profile_images/821540006225395712/LeIpm730_normal.jpg', u'profile_sidebar_fill_color': u'CC3333', u'entities': {u'url': {u'urls': [{u'url': u'https://t.co/kvKxlr5SkH', u'indices': [0, 23], u'expanded_url': u'http://twitch.tv/DarkHaze15', u'display_url': u'twitch.tv/DarkHaze15'}]}, u'description': {u'urls': []}}, u'followers_count': 757, u'profile_sidebar_border_color': u'000000', u'id_str': u'56521261', u'profile_background_color': u'FFFFFF', u'listed_count': 20, u'is_translation_enabled': False, u'utc_offset': -21600, u'statuses_count': 41988, u'description': u'I make videos once or twice a year. Assistant Manager at Strickland Propane. #WomensWrestling #BlackLivesMatter (Gamertag/PSN: DarkHaze15) #WWE2K17', u'friends_count': 745, u'location': u'Spring, TX', u'profile_link_color': u'12E33C', u'profile_image_url': u'http://pbs.twimg.com/profile_images/821540006225395712/LeIpm730_normal.jpg', u'following': False, u'geo_enabled': True, u'profile_banner_url': u'https://pbs.twimg.com/profile_banners/56521261/1486959696', u'profile_background_image_url': u'http://pbs.twimg.com/profile_background_images/434540183141097472/fmfNnBFR.jpeg', u'screen_name': u'DarkHaze4L', u'lang': u'en', u'profile_background_tile': False, u'favourites_count': 14765, u'name': u'Oscar Garcia \\U0001f918\\U0001f3fd', u'notifications': False, u'url': u'https://t.co/kvKxlr5SkH', u'created_at': u'Mon Jul 13 22:49:49 +0000 2009', u'contributors_enabled': False, u'time_zone': u'Central Time (US & Canada)', u'protected': False, u'default_profile': False, u'is_translator': False}, time_zone=u'Central Time (US & Canada)', id=56521261, description=u'I make videos once or twice a year. Assistant Manager at Strickland Propane. #WomensWrestling #BlackLivesMatter (Gamertag/PSN: DarkHaze15) #WWE2K17', _api=<tweepy.api.API object at 0x1129c4710>, verified=False, profile_text_color=u'E7E7F0', profile_image_url_https=u'https://pbs.twimg.com/profile_images/821540006225395712/LeIpm730_normal.jpg', profile_sidebar_fill_color=u'CC3333', is_translator=False, geo_enabled=True, entities={u'url': {u'urls': [{u'url': u'https://t.co/kvKxlr5SkH', u'indices': [0, 23], u'expanded_url': u'http://twitch.tv/DarkHaze15', u'display_url': u'twitch.tv/DarkHaze15'}]}, u'description': {u'urls': []}}, followers_count=757, protected=False, id_str=u'56521261', default_profile_image=False, listed_count=20, lang=u'en', utc_offset=-21600, statuses_count=41988, profile_background_color=u'FFFFFF', friends_count=745, profile_link_color=u'12E33C', profile_image_url=u'http://pbs.twimg.com/profile_images/821540006225395712/LeIpm730_normal.jpg', notifications=False, default_profile=False, profile_background_image_url_https=u'https://pbs.twimg.com/profile_background_images/434540183141097472/fmfNnBFR.jpeg', profile_banner_url=u'https://pbs.twimg.com/profile_banners/56521261/1486959696', profile_background_image_url=u'http://pbs.twimg.com/profile_background_images/434540183141097472/fmfNnBFR.jpeg', name=u'Oscar Garcia \\U0001f918\\U0001f3fd', is_translation_enabled=False, profile_background_tile=False, favourites_count=14765, screen_name=u'DarkHaze4L', url=u'https://t.co/kvKxlr5SkH', created_at=datetime.datetime(2009, 7, 13, 22, 49, 49), contributors_enabled=False, location=u'Spring, TX', profile_sidebar_border_color=u'000000', translator_type=u'none', following=False), quoted_status_id_str=u'834857647140634626', in_reply_to_status_id_str=None, place=None, retweeted=False, metadata={u'iso_language_code': u'en', u'result_type': u'recent'})\n"
     ]
    }
   ],
   "source": [
    "max_tweets=1\n",
    "\n",
    "#Tweepy Cursor handles pagination .. \n",
    "\n",
    "for tweet in tweepy.Cursor(api.search,q=\"ivanka\").items(max_tweets):\n",
    "    print(tweet)"
   ]
  },
  {
   "cell_type": "code",
   "execution_count": 18,
   "metadata": {
    "collapsed": true
   },
   "outputs": [],
   "source": [
    "results=[]\n",
    "\n",
    "\n",
    "for tweet in tweepy.Cursor(api.search,q=\"ivanka\").items(10):\n",
    "    results.append(tweet)"
   ]
  },
  {
   "cell_type": "code",
   "execution_count": 20,
   "metadata": {
    "collapsed": true
   },
   "outputs": [],
   "source": [
    "import pandas as pd\n",
    "def structure_results(results):\n",
    "    id_list=[tweet.id for tweet in results]\n",
    "    data=pd.DataFrame(id_list,columns=['id'])\n",
    "    \n",
    "    data[\"text\"]= [tweet.text.encode('utf-8') for tweet in results]\n",
    "    data[\"datetime\"]=[tweet.created_at for tweet in results]\n",
    "    data[\"Location\"]=[tweet.place for tweet in results]\n",
    "    \n",
    "    return data"
   ]
  },
  {
   "cell_type": "code",
   "execution_count": 21,
   "metadata": {
    "collapsed": false
   },
   "outputs": [
    {
     "data": {
      "text/html": [
       "<div>\n",
       "<table border=\"1\" class=\"dataframe\">\n",
       "  <thead>\n",
       "    <tr style=\"text-align: right;\">\n",
       "      <th></th>\n",
       "      <th>id</th>\n",
       "      <th>text</th>\n",
       "      <th>datetime</th>\n",
       "      <th>Location</th>\n",
       "    </tr>\n",
       "  </thead>\n",
       "  <tbody>\n",
       "    <tr>\n",
       "      <th>0</th>\n",
       "      <td>834858807243186176</td>\n",
       "      <td>Líbí se mi video @YouTube od autora @ricardina...</td>\n",
       "      <td>2017-02-23 20:13:45</td>\n",
       "      <td>None</td>\n",
       "    </tr>\n",
       "    <tr>\n",
       "      <th>1</th>\n",
       "      <td>834858800628776960</td>\n",
       "      <td>@AmandaStJean What has Ivanka Trump ever done ...</td>\n",
       "      <td>2017-02-23 20:13:43</td>\n",
       "      <td>None</td>\n",
       "    </tr>\n",
       "    <tr>\n",
       "      <th>2</th>\n",
       "      <td>834858787773304834</td>\n",
       "      <td>RT @politico: Ivanka Trump, Jared Kushner publ...</td>\n",
       "      <td>2017-02-23 20:13:40</td>\n",
       "      <td>None</td>\n",
       "    </tr>\n",
       "    <tr>\n",
       "      <th>3</th>\n",
       "      <td>834858784912769024</td>\n",
       "      <td>RT @sarahhalzack: 1. Nordstrom is set to repor...</td>\n",
       "      <td>2017-02-23 20:13:39</td>\n",
       "      <td>None</td>\n",
       "    </tr>\n",
       "    <tr>\n",
       "      <th>4</th>\n",
       "      <td>834858778428256256</td>\n",
       "      <td>RT @dariaschooler: Women Go Viral After Closin...</td>\n",
       "      <td>2017-02-23 20:13:38</td>\n",
       "      <td>None</td>\n",
       "    </tr>\n",
       "  </tbody>\n",
       "</table>\n",
       "</div>"
      ],
      "text/plain": [
       "                   id                                               text  \\\n",
       "0  834858807243186176  Líbí se mi video @YouTube od autora @ricardina...   \n",
       "1  834858800628776960  @AmandaStJean What has Ivanka Trump ever done ...   \n",
       "2  834858787773304834  RT @politico: Ivanka Trump, Jared Kushner publ...   \n",
       "3  834858784912769024  RT @sarahhalzack: 1. Nordstrom is set to repor...   \n",
       "4  834858778428256256  RT @dariaschooler: Women Go Viral After Closin...   \n",
       "\n",
       "             datetime Location  \n",
       "0 2017-02-23 20:13:45     None  \n",
       "1 2017-02-23 20:13:43     None  \n",
       "2 2017-02-23 20:13:40     None  \n",
       "3 2017-02-23 20:13:39     None  \n",
       "4 2017-02-23 20:13:38     None  "
      ]
     },
     "execution_count": 21,
     "metadata": {},
     "output_type": "execute_result"
    }
   ],
   "source": [
    "data=structure_results(results)\n",
    "data.head()"
   ]
  },
  {
   "cell_type": "code",
   "execution_count": null,
   "metadata": {
    "collapsed": true
   },
   "outputs": [],
   "source": []
  }
 ],
 "metadata": {
  "kernelspec": {
   "display_name": "Python [conda root]",
   "language": "python",
   "name": "conda-root-py"
  },
  "language_info": {
   "codemirror_mode": {
    "name": "ipython",
    "version": 2
   },
   "file_extension": ".py",
   "mimetype": "text/x-python",
   "name": "python",
   "nbconvert_exporter": "python",
   "pygments_lexer": "ipython2",
   "version": "2.7.12"
  }
 },
 "nbformat": 4,
 "nbformat_minor": 1
}
