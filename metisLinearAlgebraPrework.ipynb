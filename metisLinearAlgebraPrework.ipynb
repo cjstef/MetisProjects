{
 "cells": [
  {
   "cell_type": "code",
   "execution_count": 3,
   "metadata": {
    "collapsed": true
   },
   "outputs": [],
   "source": [
    "import numpy as np"
   ]
  },
  {
   "cell_type": "code",
   "execution_count": 87,
   "metadata": {
    "collapsed": false
   },
   "outputs": [
    {
     "name": "stdout",
     "output_type": "stream",
     "text": [
      "(2, 3)\n",
      "(2, 2)\n",
      "(3, 2)\n",
      "(2, 3)\n",
      "(4, 1)\n",
      "[ 9  7 -4  9]\n",
      "[ 3 -3 -2  1]\n",
      "[ 36  12 -18  30]\n",
      "51\n",
      "8.60232526704\n",
      "not defined\n",
      "[[-4 -7 -3]\n",
      " [ 3  6  4]]\n",
      "[[14  3  3]\n",
      " [ 2  7  9]]\n",
      "[[-1 -5 -1]\n",
      " [ 2  7  4]]\n",
      "not defined\n"
     ]
    }
   ],
   "source": [
    "from numpy import linalg as LA\n",
    "a = np.matrix([[1, 2, 3], [2, 7, 4]])\n",
    "b = np.matrix([[1, -1], [0, 1]])\n",
    "c = np.matrix([[5, -1], [9, 1], [6, 0]])\n",
    "d = np.matrix([[3, -2, -1], [1, 2, 3]])\n",
    "\n",
    "u = np.array([6, 2, -3, 5])\n",
    "v = np.array([3, 5, -1, 4])\n",
    "w = np.matrix([[1], [8], [0], [5]])\n",
    "matrices = [a, b, c, d, w]\n",
    "vectors = [u, v]\n",
    "\n",
    "##dimensions\n",
    "for item in matrices:\n",
    "    print item.shape\n",
    "\n",
    "##vector operations\n",
    "\n",
    "print u+v\n",
    "print u - v\n",
    "print 6*u\n",
    "print np.dot(u,v)\n",
    "print LA.norm(u)\n",
    "\n",
    "##matrix operations\n",
    "try:\n",
    "    print a + c\n",
    "except:\n",
    "    print \"not defined\"\n",
    "print a - c.transpose()\n",
    "print c.transpose() +3*d\n",
    "print b*a\n",
    "try:\n",
    "    print b*a.transpose\n",
    "except:\n",
    "    print \"not defined\"\n"
   ]
  },
  {
   "cell_type": "code",
   "execution_count": 37,
   "metadata": {
    "collapsed": false
   },
   "outputs": [
    {
     "ename": "ValueError",
     "evalue": "invalid literal for float(): 6 2 -3 5",
     "output_type": "error",
     "traceback": [
      "\u001b[0;31m---------------------------------------------------------------------------\u001b[0m",
      "\u001b[0;31mValueError\u001b[0m                                Traceback (most recent call last)",
      "\u001b[0;32m<ipython-input-37-9f6f50686a65>\u001b[0m in \u001b[0;36m<module>\u001b[0;34m()\u001b[0m\n\u001b[0;32m----> 1\u001b[0;31m \u001b[0mu\u001b[0m \u001b[0;34m=\u001b[0m \u001b[0mnp\u001b[0m\u001b[0;34m.\u001b[0m\u001b[0masarray\u001b[0m\u001b[0;34m(\u001b[0m\u001b[0mu\u001b[0m\u001b[0;34m,\u001b[0m \u001b[0mdtype\u001b[0m\u001b[0;34m=\u001b[0m\u001b[0mfloat\u001b[0m\u001b[0;34m)\u001b[0m\u001b[0;34m\u001b[0m\u001b[0m\n\u001b[0m",
      "\u001b[0;32m/Users/connor/anaconda/lib/python2.7/site-packages/numpy/core/numeric.pyc\u001b[0m in \u001b[0;36masarray\u001b[0;34m(a, dtype, order)\u001b[0m\n\u001b[1;32m    480\u001b[0m \u001b[0;34m\u001b[0m\u001b[0m\n\u001b[1;32m    481\u001b[0m     \"\"\"\n\u001b[0;32m--> 482\u001b[0;31m     \u001b[0;32mreturn\u001b[0m \u001b[0marray\u001b[0m\u001b[0;34m(\u001b[0m\u001b[0ma\u001b[0m\u001b[0;34m,\u001b[0m \u001b[0mdtype\u001b[0m\u001b[0;34m,\u001b[0m \u001b[0mcopy\u001b[0m\u001b[0;34m=\u001b[0m\u001b[0mFalse\u001b[0m\u001b[0;34m,\u001b[0m \u001b[0morder\u001b[0m\u001b[0;34m=\u001b[0m\u001b[0morder\u001b[0m\u001b[0;34m)\u001b[0m\u001b[0;34m\u001b[0m\u001b[0m\n\u001b[0m\u001b[1;32m    483\u001b[0m \u001b[0;34m\u001b[0m\u001b[0m\n\u001b[1;32m    484\u001b[0m \u001b[0;32mdef\u001b[0m \u001b[0masanyarray\u001b[0m\u001b[0;34m(\u001b[0m\u001b[0ma\u001b[0m\u001b[0;34m,\u001b[0m \u001b[0mdtype\u001b[0m\u001b[0;34m=\u001b[0m\u001b[0mNone\u001b[0m\u001b[0;34m,\u001b[0m \u001b[0morder\u001b[0m\u001b[0;34m=\u001b[0m\u001b[0mNone\u001b[0m\u001b[0;34m)\u001b[0m\u001b[0;34m:\u001b[0m\u001b[0;34m\u001b[0m\u001b[0m\n",
      "\u001b[0;31mValueError\u001b[0m: invalid literal for float(): 6 2 -3 5"
     ]
    }
   ],
   "source": [
    "u = np.asarray(u, dtype=float)"
   ]
  },
  {
   "cell_type": "code",
   "execution_count": 22,
   "metadata": {
    "collapsed": false
   },
   "outputs": [
    {
     "name": "stdout",
     "output_type": "stream",
     "text": [
      "(2, 3)\n",
      "(2, 2)\n",
      "(3, 2)\n",
      "(2, 3)\n",
      "(4, 1)\n"
     ]
    }
   ],
   "source": []
  },
  {
   "cell_type": "code",
   "execution_count": null,
   "metadata": {
    "collapsed": true
   },
   "outputs": [],
   "source": []
  }
 ],
 "metadata": {
  "anaconda-cloud": {},
  "kernelspec": {
   "display_name": "Python [conda root]",
   "language": "python",
   "name": "conda-root-py"
  },
  "language_info": {
   "codemirror_mode": {
    "name": "ipython",
    "version": 2
   },
   "file_extension": ".py",
   "mimetype": "text/x-python",
   "name": "python",
   "nbconvert_exporter": "python",
   "pygments_lexer": "ipython2",
   "version": "2.7.12"
  }
 },
 "nbformat": 4,
 "nbformat_minor": 1
}
