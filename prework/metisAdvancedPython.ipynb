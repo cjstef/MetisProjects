{
 "cells": [
  {
   "cell_type": "code",
   "execution_count": 98,
   "metadata": {
    "collapsed": true
   },
   "outputs": [],
   "source": [
    "import urllib2\n",
    "import csv\n",
    "\n",
    "url = 'https://raw.githubusercontent.com/cjstef/dsp/master/python/faculty.csv'\n",
    "\n",
    "response = urllib2.urlopen(url)"
   ]
  },
  {
   "cell_type": "code",
   "execution_count": 375,
   "metadata": {
    "collapsed": false
   },
   "outputs": [
    {
     "name": "stdout",
     "output_type": "stream",
     "text": [
      "[('Scarlett', 'Bellamy'), ('Warren', 'Bilker'), ('Matthew', 'Bryan'), ('Jinbo', 'Chen'), ('Jonas', 'Ellenberg'), ('Susan', 'Ellenberg'), ('Rui', 'Feng'), ('Benjamin', 'French'), ('Phyllis', 'Gimotty'), ('Wensheng', 'Guo'), ('Yenchih', 'Hsu'), ('Rebecca', 'Hubbard'), ('Wei-Ting', 'Hwang'), ('Marshall', 'Joffe'), ('J.', 'Landis'), ('Yimei', 'Li'), ('Hongzhe', 'Li'), ('Mingyao', 'Li'), ('A.', 'Localio'), ('Nandita', 'Mitra'), ('Knashawn', 'Morales'), ('Kathleen', 'Propert'), ('Mary', 'Putt'), ('Sarah', 'Ratcliffe'), ('Michelle', 'Ross'), ('Jason', 'Roy'), ('Mary', 'Sammel'), ('Pamela', 'Shaw'), ('Russell', 'Shinohara'), ('Haochang', 'Shou'), ('Justine', 'Shults'), ('Alisa', 'Stephens'), ('Andrea', 'Troxel'), ('Rui', 'Xiao'), ('Sharon', 'Xie'), ('Dawei', 'Xie'), ('Wei', 'Yang')]\n"
     ]
    }
   ],
   "source": [
    "import urllib2\n",
    "import csv\n",
    "\n",
    "url = 'https://raw.githubusercontent.com/cjstef/dsp/master/python/faculty.csv'\n",
    "\n",
    "response = urllib2.urlopen(url)\n",
    "\n",
    "faculty_dict = {}\n",
    "lastNames = []\n",
    "firstNames = []\n",
    "degrees = []\n",
    "fnLn = []\n",
    "titles = []\n",
    "dictEntries = []\n",
    "cr = csv.reader(response)\n",
    "for row in cr:\n",
    "    x = row[2][0:row[2].find(' of')]\n",
    "    name = row[0]\n",
    "    dictEntries.append([row[1],x,row[3]])\n",
    "    count = -1\n",
    "    while abs(count) < len(name):\n",
    "        if name[count] == ' ':\n",
    "            break\n",
    "        else:\n",
    "            count = count - 1\n",
    "    lastNames.append(name[count:])\n",
    "    firstNames.append(row[0][0:row[0].find(' ')])\n",
    "count = 0\n",
    "lastNames.remove(lastNames[0])\n",
    "firstNames.remove(firstNames[0])\n",
    "dictEntries.remove(dictEntries[0])\n",
    "\n",
    "while count < len(lastNames):\n",
    "    fnLn.append((firstNames[count],str.strip(lastNames[count])))\n",
    "    count = count +1\n",
    "count = 0\n",
    "for item in fnLn:\n",
    "    faculty_dict[item] = [dictEntries[count]]\n",
    "    count = count+1\n",
    "def getKey(item):\n",
    "    return item[-1]\n",
    "print sorted(faculty_dict.keys(),key=getKey)"
   ]
  },
  {
   "cell_type": "code",
   "execution_count": 342,
   "metadata": {
    "collapsed": false
   },
   "outputs": [
    {
     "name": "stdout",
     "output_type": "stream",
     "text": [
      "set(['@upenn.edu', '@email.chop.edu', '@cceb.med.upenn.edu', '@mail.med.upenn.edu'])\n"
     ]
    }
   ],
   "source": [
    "import re\n",
    "domainList = []\n",
    "\n",
    "\n",
    "for item in emailList:\n",
    "    domainList.append(item[item.find('@'):])\n",
    "\n",
    "print set(domainList)"
   ]
  },
  {
   "cell_type": "code",
   "execution_count": 61,
   "metadata": {
    "collapsed": false
   },
   "outputs": [
    {
     "name": "stdout",
     "output_type": "stream",
     "text": [
      "['ScD', 'PhD', 'PhD', 'PhD', 'PhD', 'PhD', 'PhD', 'PhD', 'PhD', 'PhD', 'PhD', 'PhD', 'PhD', 'MD MPH PhD', 'BSEd MS PhD', 'PhD', 'PhD', 'PhD', 'JD MA MPH MS PhD', 'PhD', 'ScD', 'ScD', 'PhD ScD', 'PhD', 'PhD', 'PhD', 'ScD', 'PhD', 'PhD', 'PhD', 'PhD', 'PhD', 'ScD', 'PhD', 'PhD', 'PhD', 'PhD']\n"
     ]
    }
   ],
   "source": [
    "degreeList = [x.replace('.','') for x in degreeList]\n",
    "degreeList[28] = 'PhD'\n",
    "print degreeList"
   ]
  },
  {
   "cell_type": "code",
   "execution_count": 62,
   "metadata": {
    "collapsed": false
   },
   "outputs": [
    {
     "data": {
      "text/plain": [
       "Counter({'BSEd MS PhD': 1,\n",
       "         'JD MA MPH MS PhD': 1,\n",
       "         'MD MPH PhD': 1,\n",
       "         'PhD': 28,\n",
       "         'PhD ScD': 1,\n",
       "         'ScD': 5})"
      ]
     },
     "execution_count": 62,
     "metadata": {},
     "output_type": "execute_result"
    }
   ],
   "source": [
    "from collections import Counter\n",
    "Counter(degreeList)\n"
   ]
  },
  {
   "cell_type": "code",
   "execution_count": 278,
   "metadata": {
    "collapsed": false
   },
   "outputs": [
    {
     "name": "stdout",
     "output_type": "stream",
     "text": [
      "[]\n"
     ]
    }
   ],
   "source": [
    "cr = csv.reader(response)\n",
    "titleList = []\n",
    "\n",
    "\n",
    "for row in cr:\n",
    "    print row\n",
    "    titleList.append(row[2])\n",
    "print titleList"
   ]
  },
  {
   "cell_type": "code",
   "execution_count": 320,
   "metadata": {
    "collapsed": false
   },
   "outputs": [
    {
     "ename": "SyntaxError",
     "evalue": "keyword can't be an expression (<ipython-input-320-62196e5efaa6>, line 2)",
     "output_type": "error",
     "traceback": [
      "\u001b[0;36m  File \u001b[0;32m\"<ipython-input-320-62196e5efaa6>\"\u001b[0;36m, line \u001b[0;32m2\u001b[0m\n\u001b[0;31m    testd.append(['name2'] = ['title3'])\u001b[0m\n\u001b[0;31mSyntaxError\u001b[0m\u001b[0;31m:\u001b[0m keyword can't be an expression\n"
     ]
    }
   ],
   "source": [
    "testd = {}\n",
    "testd.append(['name2'] = ['title3'])\n",
    "testd['name'] = ['title','degree']\n",
    "testd['name'].append(['title2','degree2'])\n",
    "testd['name']"
   ]
  },
  {
   "cell_type": "code",
   "execution_count": 266,
   "metadata": {
    "collapsed": false
   },
   "outputs": [
    {
     "name": "stdout",
     "output_type": "stream",
     "text": [
      " benjamin\n"
     ]
    }
   ],
   "source": [
    "test = 'john h benjamin'\n",
    "count = -1\n",
    "while abs(count) < len(test):\n",
    "    if test[count] == ' ':\n",
    "        break\n",
    "    else:\n",
    "        count = count - 1\n",
    "print test[count:]"
   ]
  },
  {
   "cell_type": "code",
   "execution_count": 331,
   "metadata": {
    "collapsed": true
   },
   "outputs": [],
   "source": [
    "test = 'Associate Professor of Biostatistics'"
   ]
  },
  {
   "cell_type": "code",
   "execution_count": 361,
   "metadata": {
    "collapsed": false
   },
   "outputs": [
    {
     "data": {
      "text/plain": [
       "'connor'"
      ]
     },
     "execution_count": 361,
     "metadata": {},
     "output_type": "execute_result"
    }
   ],
   "source": [
    "test = ['connor stefan']\n",
    "test[0][0:test[0].find(' ')]"
   ]
  },
  {
   "cell_type": "code",
   "execution_count": null,
   "metadata": {
    "collapsed": true
   },
   "outputs": [],
   "source": []
  }
 ],
 "metadata": {
  "anaconda-cloud": {},
  "kernelspec": {
   "display_name": "Python [conda root]",
   "language": "python",
   "name": "conda-root-py"
  },
  "language_info": {
   "codemirror_mode": {
    "name": "ipython",
    "version": 2
   },
   "file_extension": ".py",
   "mimetype": "text/x-python",
   "name": "python",
   "nbconvert_exporter": "python",
   "pygments_lexer": "ipython2",
   "version": "2.7.12"
  }
 },
 "nbformat": 4,
 "nbformat_minor": 1
}
