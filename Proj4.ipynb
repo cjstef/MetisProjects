{
 "cells": [
  {
   "cell_type": "code",
   "execution_count": 21,
   "metadata": {
    "collapsed": true
   },
   "outputs": [],
   "source": [
    "import numpy as np\n",
    "import pandas as pd\n",
    "import matplotlib.pyplot as plt\n",
    "import gensim, logging\n",
    "import random\n",
    "\n",
    "%matplotlib inline"
   ]
  },
  {
   "cell_type": "code",
   "execution_count": 2,
   "metadata": {
    "collapsed": true
   },
   "outputs": [],
   "source": [
    "df = pd.read_csv('https://raw.githubusercontent.com/elrazia/south_park/master/all-seasons.csv')\n"
   ]
  },
  {
   "cell_type": "code",
   "execution_count": 3,
   "metadata": {
    "collapsed": true
   },
   "outputs": [],
   "source": [
    "#dropping rows with season titles\n",
    "df = df.loc[df['Season'] != 'Season']"
   ]
  },
  {
   "cell_type": "code",
   "execution_count": 4,
   "metadata": {
    "collapsed": true
   },
   "outputs": [],
   "source": [
    "#selecting cartman's lines\n",
    "dfCartman = df.loc[df['Character'] == \"Cartman\"]"
   ]
  },
  {
   "cell_type": "code",
   "execution_count": 5,
   "metadata": {
    "collapsed": false,
    "scrolled": false
   },
   "outputs": [
    {
     "name": "stderr",
     "output_type": "stream",
     "text": [
      "/Users/connor/anaconda/lib/python2.7/site-packages/ipykernel/__main__.py:2: SettingWithCopyWarning: \n",
      "A value is trying to be set on a copy of a slice from a DataFrame\n",
      "\n",
      "See the caveats in the documentation: http://pandas.pydata.org/pandas-docs/stable/indexing.html#indexing-view-versus-copy\n",
      "  from ipykernel import kernelapp as app\n"
     ]
    }
   ],
   "source": [
    "#getting rid of now redundant character column\n",
    "dfCartman.drop('Character',axis=1,inplace=True)"
   ]
  },
  {
   "cell_type": "code",
   "execution_count": 6,
   "metadata": {
    "collapsed": false,
    "scrolled": true
   },
   "outputs": [
    {
     "name": "stderr",
     "output_type": "stream",
     "text": [
      "/Users/connor/anaconda/lib/python2.7/site-packages/ipykernel/__main__.py:2: FutureWarning: sort(columns=....) is deprecated, use sort_values(by=.....)\n",
      "  from ipykernel import kernelapp as app\n"
     ]
    }
   ],
   "source": [
    "#ordering dataframe by season, episode\n",
    "dfCartman = dfCartman.sort(['Season','Episode'])\n"
   ]
  },
  {
   "cell_type": "code",
   "execution_count": 7,
   "metadata": {
    "collapsed": false
   },
   "outputs": [],
   "source": [
    "#resetting the index\n",
    "dfCartman = dfCartman.reset_index(drop=True)\n",
    "\n"
   ]
  },
  {
   "cell_type": "code",
   "execution_count": 8,
   "metadata": {
    "collapsed": false
   },
   "outputs": [],
   "source": [
    "#combining lines into \"documents\" for each season, episode\n",
    "dfCartman2 = dfCartman.sum()"
   ]
  },
  {
   "cell_type": "code",
   "execution_count": 9,
   "metadata": {
    "collapsed": false
   },
   "outputs": [],
   "source": [
    "text = dfCartman2.Line.split()"
   ]
  },
  {
   "cell_type": "code",
   "execution_count": 10,
   "metadata": {
    "collapsed": false
   },
   "outputs": [],
   "source": [
    "# helper functions to generate text probabilistically via Markov Chains\n",
    "def makePairs(arr):\n",
    "    pairs = []\n",
    "    for i in range(len(arr)):\n",
    "        if i < len(arr)-1: \n",
    "            temp = (arr[i], arr[i+1])\n",
    "            pairs.append(temp)\n",
    "    return pairs\n",
    "\n"
   ]
  },
  {
   "cell_type": "code",
   "execution_count": 11,
   "metadata": {
    "collapsed": true
   },
   "outputs": [],
   "source": [
    "def generate(cfd, word = 'the', num = 50):\n",
    "    for i in range(num):\n",
    "        arr = []    # make a count array with the words shown\n",
    "        for j in cfd[word]:\n",
    "            for k in range(cfd[word][j]):\n",
    "                arr.append(j)\n",
    "        \n",
    "        print word\n",
    "        word = arr[int((len(arr))*random.random())] # choose word randomly from conditional distribution"
   ]
  },
  {
   "cell_type": "code",
   "execution_count": 12,
   "metadata": {
    "collapsed": false
   },
   "outputs": [
    {
     "data": {
      "text/plain": [
       "\"No you, you can't do this! The KFC in my town is closed too!\\n\""
      ]
     },
     "execution_count": 12,
     "metadata": {},
     "output_type": "execute_result"
    }
   ],
   "source": [
    "df.Line.iloc[14021]"
   ]
  },
  {
   "cell_type": "code",
   "execution_count": 13,
   "metadata": {
    "collapsed": false
   },
   "outputs": [],
   "source": [
    "pairs = makePairs(text)"
   ]
  },
  {
   "cell_type": "code",
   "execution_count": 14,
   "metadata": {
    "collapsed": false
   },
   "outputs": [],
   "source": [
    "d = {}\n",
    "for word in text:\n",
    "    key = word\n",
    "    d.setdefault(key,[])"
   ]
  },
  {
   "cell_type": "code",
   "execution_count": 24,
   "metadata": {
    "collapsed": false,
    "scrolled": true
   },
   "outputs": [
    {
     "name": "stdout",
     "output_type": "stream",
     "text": [
      "funny Mr. Kitty, so caught up getting fucked me that. Gay. Uh... It's not us instead just sound like \"I mis-interpreted the guys believe. It's Faith Hilling at home! GET THE FUCK are you stoked?! Look at school believin' that\n"
     ]
    }
   ],
   "source": [
    "##chat bot with bigrams\n",
    "\n",
    "for pair in pairs:\n",
    "        d[pair[0]].append(pair[1])\n",
    "\n",
    "future = d[d.keys()[random.randrange(len(d.keys()))]]\n",
    "present = d.keys()[random.randrange(len(d.keys()))]\n",
    "phrase = []\n",
    "for i in range(40):\n",
    "    phrase.append(present)\n",
    "    choices = len(future)\n",
    "    if choices == 1:\n",
    "        present = future[0]\n",
    "    else:\n",
    "        present = future[random.randrange(choices)]\n",
    "    future = d[present]\n",
    "print ' '.join(phrase)\n"
   ]
  },
  {
   "cell_type": "code",
   "execution_count": 16,
   "metadata": {
    "collapsed": false
   },
   "outputs": [],
   "source": [
    "def makeTrips(arr):\n",
    "    trips = []\n",
    "    for i in range(len(arr)):\n",
    "        if i < len(arr)-2: \n",
    "            temp = (arr[i], arr[i+1], arr[i+2])\n",
    "            trips.append(temp)\n",
    "        else:\n",
    "            break\n",
    "    return trips"
   ]
  },
  {
   "cell_type": "code",
   "execution_count": 17,
   "metadata": {
    "collapsed": false
   },
   "outputs": [],
   "source": [
    "trips = makeTrips(text)"
   ]
  },
  {
   "cell_type": "code",
   "execution_count": 18,
   "metadata": {
    "collapsed": false
   },
   "outputs": [],
   "source": [
    "d2 = {}\n",
    "for word in text:\n",
    "    key = word\n",
    "    d2.setdefault(key,[])\n",
    "    \n",
    "    \n",
    "for trip in trips:\n",
    "    try:\n",
    "        d2[trip[0]].append(trip[1:3])\n",
    "    except:\n",
    "        break"
   ]
  },
  {
   "cell_type": "code",
   "execution_count": 23,
   "metadata": {
    "collapsed": false,
    "scrolled": true
   },
   "outputs": [
    {
     "name": "stdout",
     "output_type": "stream",
     "text": [
      "in South Carlina for a few extra pounds and the best I want one part where all my house. Butters, get out they have metal spikes, then hold on, I'm just gonna let a room wearing their T-shirts kicks ass! How do to Timmy? Oh yeah, ziplining! That could be the last page, and now I'm back. Yes, well, hopefully you've got boned! That's cool. When Token sees my iPad has more pop in the nuts, and he starts singing\n"
     ]
    }
   ],
   "source": [
    "present2 = d2.keys()[random.randrange(len(d2.keys()))]\n",
    "future2 = d2[present2]\n",
    "phrase2 = []\n",
    "\n",
    "for i in range(40):\n",
    "    choices2 = len(future2)\n",
    "    if choices2 == 1:\n",
    "        temp = future2[0]\n",
    "    else:\n",
    "        temp = future2[random.randrange(choices2)]\n",
    "    present2 = temp[1]\n",
    "    phrase2.append(temp[0])\n",
    "    phrase2.append(temp[1])\n",
    "    future2 = d2[present2]\n",
    "print ' '.join(phrase2)\n"
   ]
  },
  {
   "cell_type": "code",
   "execution_count": 20,
   "metadata": {
    "collapsed": false
   },
   "outputs": [
    {
     "name": "stdout",
     "output_type": "stream",
     "text": [
      "Connor likes beer\n"
     ]
    }
   ],
   "source": [
    "## Dictionary based approach to markov chains with singular word states\n",
    "\n",
    "## A dictionary of word pairings\n",
    "exDict = {'Connor': ['hates','likes'],\n",
    "               'hates': ['tomatoes','sitcoms','tomatoes'],\n",
    "               'likes':['dogs','beer','data','beer','beer','beer','dogs']}\n",
    "\n",
    "#initializing states for the markov Chain\n",
    "presentState = 'Connor'\n",
    "futureState = exDict['Connor']\n",
    "output = []\n",
    "\n",
    "#iterating through the desired number of times\n",
    "for i in range(3):\n",
    "    output.append(presentState)\n",
    "    temp = futureState[random.randrange(len(futureState))]\n",
    "    presentState = temp\n",
    "    try:\n",
    "        futureState = exDict[presentState]\n",
    "    except:\n",
    "        pass\n",
    "print ' '.join(output)\n"
   ]
  },
  {
   "cell_type": "code",
   "execution_count": null,
   "metadata": {
    "collapsed": true
   },
   "outputs": [],
   "source": []
  }
 ],
 "metadata": {
  "anaconda-cloud": {},
  "kernelspec": {
   "display_name": "Python [conda root]",
   "language": "python",
   "name": "conda-root-py"
  },
  "language_info": {
   "codemirror_mode": {
    "name": "ipython",
    "version": 2
   },
   "file_extension": ".py",
   "mimetype": "text/x-python",
   "name": "python",
   "nbconvert_exporter": "python",
   "pygments_lexer": "ipython2",
   "version": "2.7.12"
  }
 },
 "nbformat": 4,
 "nbformat_minor": 1
}
