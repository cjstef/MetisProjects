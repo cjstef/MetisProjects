{
 "cells": [
  {
   "cell_type": "markdown",
   "metadata": {},
   "source": [
    "#Project Luther\n",
    "\n",
    "This ipython notebook is to document the process of web scraping to acquire data for the project.\n",
    "\n",
    "##Process:\n",
    "1. Acquire data from footballoutsiders.com for selected six metrics that will serve as our features\n"
   ]
  },
  {
   "cell_type": "code",
   "execution_count": 6,
   "metadata": {
    "collapsed": false
   },
   "outputs": [],
   "source": [
    "import requests\n",
    "from bs4 import BeautifulSoup\n",
    "import pandas as pd\n",
    "import time\n",
    "import pickle\n",
    "import urllib2"
   ]
  },
  {
   "cell_type": "code",
   "execution_count": 7,
   "metadata": {
    "collapsed": false
   },
   "outputs": [],
   "source": [
    "#tbody\n",
    "url = 'http://www.footballoutsiders.com/stats/drivestatsoff2002'\n",
    "response = urllib2.urlopen(url)\n",
    "headers = response.info()\n",
    "data = response.read()\n",
    "## Open locally saved HTML file and create a BeautifulSoup object"
   ]
  },
  {
   "cell_type": "code",
   "execution_count": 10,
   "metadata": {
    "collapsed": false
   },
   "outputs": [],
   "source": [
    "soup = BeautifulSoup(data, 'html.parser')"
   ]
  },
  {
   "cell_type": "code",
   "execution_count": 60,
   "metadata": {
    "collapsed": false
   },
   "outputs": [],
   "source": [
    "table = soup.find('table', {'class': 'stats'})\n",
    "rows = table.findAll(lambda tag: tag.name=='tr')\n",
    "tempList = []\n",
    "seasonTable = []"
   ]
  },
  {
   "cell_type": "code",
   "execution_count": 65,
   "metadata": {
    "collapsed": false
   },
   "outputs": [
    {
     "name": "stdout",
     "output_type": "stream",
     "text": [
      "Team\n",
      "Drives\n",
      "Yds/Dr\n",
      "Pts/Dr\n",
      "TOs/Dr\n",
      "INT/Dr\n",
      "FUM/Dr\n",
      "LOS/Dr\n",
      "Plays/Dr\n",
      "TOP/Dr\n",
      "DSR\n"
     ]
    }
   ],
   "source": [
    "for item in [item.text.strip() for item in table.find_all('td')][:11]:\n",
    "    print item"
   ]
  },
  {
   "cell_type": "code",
   "execution_count": 66,
   "metadata": {
    "collapsed": false
   },
   "outputs": [
    {
     "name": "stdout",
     "output_type": "stream",
     "text": [
      "2.48   (2)\n"
     ]
    }
   ],
   "source": [
    "print seasonTable[1][3]"
   ]
  },
  {
   "cell_type": "code",
   "execution_count": null,
   "metadata": {
    "collapsed": true
   },
   "outputs": [],
   "source": []
  }
 ],
 "metadata": {
  "anaconda-cloud": {},
  "kernelspec": {
   "display_name": "Python [conda root]",
   "language": "python",
   "name": "conda-root-py"
  },
  "language_info": {
   "codemirror_mode": {
    "name": "ipython",
    "version": 2
   },
   "file_extension": ".py",
   "mimetype": "text/x-python",
   "name": "python",
   "nbconvert_exporter": "python",
   "pygments_lexer": "ipython2",
   "version": "2.7.12"
  }
 },
 "nbformat": 4,
 "nbformat_minor": 1
}
